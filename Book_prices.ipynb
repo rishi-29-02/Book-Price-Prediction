{
  "nbformat": 4,
  "nbformat_minor": 0,
  "metadata": {
    "colab": {
      "name": "Book prices.ipynb",
      "provenance": [],
      "collapsed_sections": [],
      "authorship_tag": "ABX9TyPSo7I5we8pDVzRljDgbiMs",
      "include_colab_link": true
    },
    "kernelspec": {
      "name": "python3",
      "display_name": "Python 3"
    }
  },
  "cells": [
    {
      "cell_type": "markdown",
      "metadata": {
        "id": "view-in-github",
        "colab_type": "text"
      },
      "source": [
        "<a href=\"https://colab.research.google.com/github/rishi-29-02/Book-Price-Prediction/blob/main/Book_prices.ipynb\" target=\"_parent\"><img src=\"https://colab.research.google.com/assets/colab-badge.svg\" alt=\"Open In Colab\"/></a>"
      ]
    },
    {
      "cell_type": "code",
      "metadata": {
        "id": "NZeQKe-5iL3d"
      },
      "source": [
        "import numpy as np\n",
        "import pandas as pd\n",
        "\n",
        "import warnings \n",
        "warnings.filterwarnings('ignore')"
      ],
      "execution_count": 1496,
      "outputs": []
    },
    {
      "cell_type": "code",
      "metadata": {
        "id": "PuxWDc94ia6Z"
      },
      "source": [
        "#from google.colab import files\n",
        "#uploaded = files.upload()"
      ],
      "execution_count": 1497,
      "outputs": []
    },
    {
      "cell_type": "code",
      "metadata": {
        "colab": {
          "base_uri": "https://localhost:8080/",
          "height": 1000
        },
        "id": "XAK3AdKaiqBl",
        "outputId": "85b8915f-bb62-4787-d336-d1ce5ae44552"
      },
      "source": [
        "train_data = pd.read_excel('Data_Train.xlsx')\n",
        "test_data = pd.read_excel('Data_Test.xlsx')\n",
        "train_data.head(20)"
      ],
      "execution_count": 1498,
      "outputs": [
        {
          "output_type": "execute_result",
          "data": {
            "text/html": [
              "<div>\n",
              "<style scoped>\n",
              "    .dataframe tbody tr th:only-of-type {\n",
              "        vertical-align: middle;\n",
              "    }\n",
              "\n",
              "    .dataframe tbody tr th {\n",
              "        vertical-align: top;\n",
              "    }\n",
              "\n",
              "    .dataframe thead th {\n",
              "        text-align: right;\n",
              "    }\n",
              "</style>\n",
              "<table border=\"1\" class=\"dataframe\">\n",
              "  <thead>\n",
              "    <tr style=\"text-align: right;\">\n",
              "      <th></th>\n",
              "      <th>Title</th>\n",
              "      <th>Author</th>\n",
              "      <th>Edition</th>\n",
              "      <th>Reviews</th>\n",
              "      <th>Ratings</th>\n",
              "      <th>Synopsis</th>\n",
              "      <th>Genre</th>\n",
              "      <th>BookCategory</th>\n",
              "      <th>Price</th>\n",
              "    </tr>\n",
              "  </thead>\n",
              "  <tbody>\n",
              "    <tr>\n",
              "      <th>0</th>\n",
              "      <td>The Prisoner's Gold (The Hunters 3)</td>\n",
              "      <td>Chris Kuzneski</td>\n",
              "      <td>Paperback,– 10 Mar 2016</td>\n",
              "      <td>4.0 out of 5 stars</td>\n",
              "      <td>8 customer reviews</td>\n",
              "      <td>THE HUNTERS return in their third brilliant no...</td>\n",
              "      <td>Action &amp; Adventure (Books)</td>\n",
              "      <td>Action &amp; Adventure</td>\n",
              "      <td>220.00</td>\n",
              "    </tr>\n",
              "    <tr>\n",
              "      <th>1</th>\n",
              "      <td>Guru Dutt: A Tragedy in Three Acts</td>\n",
              "      <td>Arun Khopkar</td>\n",
              "      <td>Paperback,– 7 Nov 2012</td>\n",
              "      <td>3.9 out of 5 stars</td>\n",
              "      <td>14 customer reviews</td>\n",
              "      <td>A layered portrait of a troubled genius for wh...</td>\n",
              "      <td>Cinema &amp; Broadcast (Books)</td>\n",
              "      <td>Biographies, Diaries &amp; True Accounts</td>\n",
              "      <td>202.93</td>\n",
              "    </tr>\n",
              "    <tr>\n",
              "      <th>2</th>\n",
              "      <td>Leviathan (Penguin Classics)</td>\n",
              "      <td>Thomas Hobbes</td>\n",
              "      <td>Paperback,– 25 Feb 1982</td>\n",
              "      <td>4.8 out of 5 stars</td>\n",
              "      <td>6 customer reviews</td>\n",
              "      <td>\"During the time men live without a common Pow...</td>\n",
              "      <td>International Relations</td>\n",
              "      <td>Humour</td>\n",
              "      <td>299.00</td>\n",
              "    </tr>\n",
              "    <tr>\n",
              "      <th>3</th>\n",
              "      <td>A Pocket Full of Rye (Miss Marple)</td>\n",
              "      <td>Agatha Christie</td>\n",
              "      <td>Paperback,– 5 Oct 2017</td>\n",
              "      <td>4.1 out of 5 stars</td>\n",
              "      <td>13 customer reviews</td>\n",
              "      <td>A handful of grain is found in the pocket of a...</td>\n",
              "      <td>Contemporary Fiction (Books)</td>\n",
              "      <td>Crime, Thriller &amp; Mystery</td>\n",
              "      <td>180.00</td>\n",
              "    </tr>\n",
              "    <tr>\n",
              "      <th>4</th>\n",
              "      <td>LIFE 70 Years of Extraordinary Photography</td>\n",
              "      <td>Editors of Life</td>\n",
              "      <td>Hardcover,– 10 Oct 2006</td>\n",
              "      <td>5.0 out of 5 stars</td>\n",
              "      <td>1 customer review</td>\n",
              "      <td>For seven decades, \"Life\" has been thrilling t...</td>\n",
              "      <td>Photography Textbooks</td>\n",
              "      <td>Arts, Film &amp; Photography</td>\n",
              "      <td>965.62</td>\n",
              "    </tr>\n",
              "    <tr>\n",
              "      <th>5</th>\n",
              "      <td>ChiRunning: A Revolutionary Approach to Effort...</td>\n",
              "      <td>Danny Dreyer</td>\n",
              "      <td>Paperback,– 5 May 2009</td>\n",
              "      <td>4.5 out of 5 stars</td>\n",
              "      <td>8 customer reviews</td>\n",
              "      <td>The revised edition of the bestselling ChiRunn...</td>\n",
              "      <td>Healthy Living &amp; Wellness (Books)</td>\n",
              "      <td>Sports</td>\n",
              "      <td>900.00</td>\n",
              "    </tr>\n",
              "    <tr>\n",
              "      <th>6</th>\n",
              "      <td>Death on the Nile (Poirot)</td>\n",
              "      <td>Agatha Christie</td>\n",
              "      <td>Paperback,– 5 Oct 2017</td>\n",
              "      <td>4.4 out of 5 stars</td>\n",
              "      <td>72 customer reviews</td>\n",
              "      <td>Agatha Christie’s most exotic murder mystery\\n...</td>\n",
              "      <td>Crime, Thriller &amp; Mystery (Books)</td>\n",
              "      <td>Crime, Thriller &amp; Mystery</td>\n",
              "      <td>224.00</td>\n",
              "    </tr>\n",
              "    <tr>\n",
              "      <th>7</th>\n",
              "      <td>Yoga Your Home Practice Companion: A Complete ...</td>\n",
              "      <td>Sivananda Yoga Vedanta Centre</td>\n",
              "      <td>Hardcover,– Import, 1 Mar 2018</td>\n",
              "      <td>4.7 out of 5 stars</td>\n",
              "      <td>16 customer reviews</td>\n",
              "      <td>Achieve a healthy body, mental alertness, and ...</td>\n",
              "      <td>Sports Training &amp; Coaching (Books)</td>\n",
              "      <td>Sports</td>\n",
              "      <td>836.00</td>\n",
              "    </tr>\n",
              "    <tr>\n",
              "      <th>8</th>\n",
              "      <td>Karmayogi: A Biography of E. Sreedharan</td>\n",
              "      <td>M S Ashokan</td>\n",
              "      <td>Paperback,– 15 Dec 2015</td>\n",
              "      <td>4.2 out of 5 stars</td>\n",
              "      <td>111 customer reviews</td>\n",
              "      <td>Karmayogi is the dramatic and inspiring story ...</td>\n",
              "      <td>Biographies &amp; Autobiographies (Books)</td>\n",
              "      <td>Biographies, Diaries &amp; True Accounts</td>\n",
              "      <td>130.00</td>\n",
              "    </tr>\n",
              "    <tr>\n",
              "      <th>9</th>\n",
              "      <td>The Iron King (The Accursed Kings, Book 1)</td>\n",
              "      <td>Maurice Druon</td>\n",
              "      <td>Paperback,– 26 Mar 2013</td>\n",
              "      <td>4.0 out of 5 stars</td>\n",
              "      <td>1 customer review</td>\n",
              "      <td>‘This is the original game of thrones’ George ...</td>\n",
              "      <td>Action &amp; Adventure (Books)</td>\n",
              "      <td>Action &amp; Adventure</td>\n",
              "      <td>695.00</td>\n",
              "    </tr>\n",
              "    <tr>\n",
              "      <th>10</th>\n",
              "      <td>Battle for Sanskrit: Is Sanskrit Political or ...</td>\n",
              "      <td>Rajiv Malhotra</td>\n",
              "      <td>Paperback,– 20 Jan 2017</td>\n",
              "      <td>4.9 out of 5 stars</td>\n",
              "      <td>132 customer reviews</td>\n",
              "      <td>There is a new awakening in India that is chal...</td>\n",
              "      <td>Asian History</td>\n",
              "      <td>Language, Linguistics &amp; Writing</td>\n",
              "      <td>373.00</td>\n",
              "    </tr>\n",
              "    <tr>\n",
              "      <th>11</th>\n",
              "      <td>Blockchain Revolution: How the Technology Behi...</td>\n",
              "      <td>Don Tapscott, Alex Tapscott</td>\n",
              "      <td>Paperback,– Import, 14 Jun 2018</td>\n",
              "      <td>3.5 out of 5 stars</td>\n",
              "      <td>17 customer reviews</td>\n",
              "      <td>THE DEFINITIVE BOOK ON HOW THE TECHNOLOGY BEHI...</td>\n",
              "      <td>Banks &amp; Banking</td>\n",
              "      <td>Computing, Internet &amp; Digital Media</td>\n",
              "      <td>309.00</td>\n",
              "    </tr>\n",
              "    <tr>\n",
              "      <th>12</th>\n",
              "      <td>Tai-Pan: The Second Novel of the Asian Saga</td>\n",
              "      <td>James Clavell</td>\n",
              "      <td>Paperback,– 1 Jul 1999</td>\n",
              "      <td>4.1 out of 5 stars</td>\n",
              "      <td>4 customer reviews</td>\n",
              "      <td>Set in the turbulent days of the founding of H...</td>\n",
              "      <td>Action &amp; Adventure (Books)</td>\n",
              "      <td>Action &amp; Adventure</td>\n",
              "      <td>379.00</td>\n",
              "    </tr>\n",
              "    <tr>\n",
              "      <th>13</th>\n",
              "      <td>The Art of Shaolin Kung Fu: The Secrets of Kun...</td>\n",
              "      <td>Wong Kiew Kit</td>\n",
              "      <td>Paperback,– 15 Nov 2002</td>\n",
              "      <td>5.0 out of 5 stars</td>\n",
              "      <td>3 customer reviews</td>\n",
              "      <td>The Art of Shaolin Kung Fu is the ultimate gui...</td>\n",
              "      <td>Asian History</td>\n",
              "      <td>Sports</td>\n",
              "      <td>1066.00</td>\n",
              "    </tr>\n",
              "    <tr>\n",
              "      <th>14</th>\n",
              "      <td>Anil's Ghost</td>\n",
              "      <td>Michael Ondaatje</td>\n",
              "      <td>Paperback,– 1 Sep 2011</td>\n",
              "      <td>3.8 out of 5 stars</td>\n",
              "      <td>5 customer reviews</td>\n",
              "      <td>Anil's Ghost transports us to Sri Lanka, a cou...</td>\n",
              "      <td>Action &amp; Adventure (Books)</td>\n",
              "      <td>Romance</td>\n",
              "      <td>381.22</td>\n",
              "    </tr>\n",
              "    <tr>\n",
              "      <th>15</th>\n",
              "      <td>Superman: An Origin Story (DC Comics Super Her...</td>\n",
              "      <td>Matthew K Manning</td>\n",
              "      <td>Paperback,– 26 Feb 2015</td>\n",
              "      <td>5.0 out of 5 stars</td>\n",
              "      <td>2 customer reviews</td>\n",
              "      <td>One day, an alien orphan crash-lands on Earth ...</td>\n",
              "      <td>Comics &amp; Mangas (Books)</td>\n",
              "      <td>Comics &amp; Mangas</td>\n",
              "      <td>287.00</td>\n",
              "    </tr>\n",
              "    <tr>\n",
              "      <th>16</th>\n",
              "      <td>My First Book of London</td>\n",
              "      <td>Charlotte Guillain, Roland Dry</td>\n",
              "      <td>Hardcover,– 8 Mar 2018</td>\n",
              "      <td>5.0 out of 5 stars</td>\n",
              "      <td>1 customer review</td>\n",
              "      <td>London is one of the most exciting cities in t...</td>\n",
              "      <td>Children's Mysteries &amp; Curiosities (Books)</td>\n",
              "      <td>Crime, Thriller &amp; Mystery</td>\n",
              "      <td>162.00</td>\n",
              "    </tr>\n",
              "    <tr>\n",
              "      <th>17</th>\n",
              "      <td>Naruto: Itachi's Story, Vol. 1: Daylight</td>\n",
              "      <td>Takashi Yano</td>\n",
              "      <td>Paperback,– 1 Nov 2016</td>\n",
              "      <td>4.9 out of 5 stars</td>\n",
              "      <td>23 customer reviews</td>\n",
              "      <td>A new series of prose novels, straight from th...</td>\n",
              "      <td>Mangas</td>\n",
              "      <td>Comics &amp; Mangas</td>\n",
              "      <td>587.00</td>\n",
              "    </tr>\n",
              "    <tr>\n",
              "      <th>18</th>\n",
              "      <td>The Story of Philosophy</td>\n",
              "      <td>Will Durant</td>\n",
              "      <td>Mass Market Paperback,– 1 Jan 1991</td>\n",
              "      <td>4.5 out of 5 stars</td>\n",
              "      <td>76 customer reviews</td>\n",
              "      <td>A brilliant and concise account of the lives a...</td>\n",
              "      <td>Biographies &amp; Autobiographies (Books)</td>\n",
              "      <td>Biographies, Diaries &amp; True Accounts</td>\n",
              "      <td>291.00</td>\n",
              "    </tr>\n",
              "    <tr>\n",
              "      <th>19</th>\n",
              "      <td>Introducing Data Science: Big Data, Machine Le...</td>\n",
              "      <td>Davy Cielen, Arno D.B. Meysman, Mohamed Ali</td>\n",
              "      <td>Paperback,– 2016</td>\n",
              "      <td>4.3 out of 5 stars</td>\n",
              "      <td>5 customer reviews</td>\n",
              "      <td>Introducing Data Science explains vital data s...</td>\n",
              "      <td>Artificial Intelligence</td>\n",
              "      <td>Computing, Internet &amp; Digital Media</td>\n",
              "      <td>352.00</td>\n",
              "    </tr>\n",
              "  </tbody>\n",
              "</table>\n",
              "</div>"
            ],
            "text/plain": [
              "                                                Title  ...    Price\n",
              "0                 The Prisoner's Gold (The Hunters 3)  ...   220.00\n",
              "1                  Guru Dutt: A Tragedy in Three Acts  ...   202.93\n",
              "2                        Leviathan (Penguin Classics)  ...   299.00\n",
              "3                  A Pocket Full of Rye (Miss Marple)  ...   180.00\n",
              "4          LIFE 70 Years of Extraordinary Photography  ...   965.62\n",
              "5   ChiRunning: A Revolutionary Approach to Effort...  ...   900.00\n",
              "6                          Death on the Nile (Poirot)  ...   224.00\n",
              "7   Yoga Your Home Practice Companion: A Complete ...  ...   836.00\n",
              "8             Karmayogi: A Biography of E. Sreedharan  ...   130.00\n",
              "9          The Iron King (The Accursed Kings, Book 1)  ...   695.00\n",
              "10  Battle for Sanskrit: Is Sanskrit Political or ...  ...   373.00\n",
              "11  Blockchain Revolution: How the Technology Behi...  ...   309.00\n",
              "12        Tai-Pan: The Second Novel of the Asian Saga  ...   379.00\n",
              "13  The Art of Shaolin Kung Fu: The Secrets of Kun...  ...  1066.00\n",
              "14                                       Anil's Ghost  ...   381.22\n",
              "15  Superman: An Origin Story (DC Comics Super Her...  ...   287.00\n",
              "16                            My First Book of London  ...   162.00\n",
              "17           Naruto: Itachi's Story, Vol. 1: Daylight  ...   587.00\n",
              "18                            The Story of Philosophy  ...   291.00\n",
              "19  Introducing Data Science: Big Data, Machine Le...  ...   352.00\n",
              "\n",
              "[20 rows x 9 columns]"
            ]
          },
          "metadata": {
            "tags": []
          },
          "execution_count": 1498
        }
      ]
    },
    {
      "cell_type": "code",
      "metadata": {
        "colab": {
          "base_uri": "https://localhost:8080/"
        },
        "id": "FP86NVQrp-C3",
        "outputId": "83bd4ad3-150e-41a8-afd2-049270e45b5c"
      },
      "source": [
        "test_data.shape"
      ],
      "execution_count": 1499,
      "outputs": [
        {
          "output_type": "execute_result",
          "data": {
            "text/plain": [
              "(1560, 8)"
            ]
          },
          "metadata": {
            "tags": []
          },
          "execution_count": 1499
        }
      ]
    },
    {
      "cell_type": "code",
      "metadata": {
        "colab": {
          "base_uri": "https://localhost:8080/"
        },
        "id": "ZdRhF1Nmjj4z",
        "outputId": "46757566-c385-44a8-e3de-cccf6eec01a1"
      },
      "source": [
        "train_data.shape"
      ],
      "execution_count": 1500,
      "outputs": [
        {
          "output_type": "execute_result",
          "data": {
            "text/plain": [
              "(6237, 9)"
            ]
          },
          "metadata": {
            "tags": []
          },
          "execution_count": 1500
        }
      ]
    },
    {
      "cell_type": "code",
      "metadata": {
        "colab": {
          "base_uri": "https://localhost:8080/"
        },
        "id": "ncpRfsuBqCYG",
        "outputId": "8c539d5d-d5ed-4003-dd4a-81e464e9d518"
      },
      "source": [
        "test_data.shape"
      ],
      "execution_count": 1501,
      "outputs": [
        {
          "output_type": "execute_result",
          "data": {
            "text/plain": [
              "(1560, 8)"
            ]
          },
          "metadata": {
            "tags": []
          },
          "execution_count": 1501
        }
      ]
    },
    {
      "cell_type": "code",
      "metadata": {
        "colab": {
          "base_uri": "https://localhost:8080/",
          "height": 407
        },
        "id": "ZbkoCu4ijqjv",
        "outputId": "2fba6539-b0ba-4e6e-f57a-e6fd0da87fdd"
      },
      "source": [
        "train_data.describe(include='all')"
      ],
      "execution_count": 1502,
      "outputs": [
        {
          "output_type": "execute_result",
          "data": {
            "text/html": [
              "<div>\n",
              "<style scoped>\n",
              "    .dataframe tbody tr th:only-of-type {\n",
              "        vertical-align: middle;\n",
              "    }\n",
              "\n",
              "    .dataframe tbody tr th {\n",
              "        vertical-align: top;\n",
              "    }\n",
              "\n",
              "    .dataframe thead th {\n",
              "        text-align: right;\n",
              "    }\n",
              "</style>\n",
              "<table border=\"1\" class=\"dataframe\">\n",
              "  <thead>\n",
              "    <tr style=\"text-align: right;\">\n",
              "      <th></th>\n",
              "      <th>Title</th>\n",
              "      <th>Author</th>\n",
              "      <th>Edition</th>\n",
              "      <th>Reviews</th>\n",
              "      <th>Ratings</th>\n",
              "      <th>Synopsis</th>\n",
              "      <th>Genre</th>\n",
              "      <th>BookCategory</th>\n",
              "      <th>Price</th>\n",
              "    </tr>\n",
              "  </thead>\n",
              "  <tbody>\n",
              "    <tr>\n",
              "      <th>count</th>\n",
              "      <td>6237</td>\n",
              "      <td>6237</td>\n",
              "      <td>6237</td>\n",
              "      <td>6237</td>\n",
              "      <td>6237</td>\n",
              "      <td>6237</td>\n",
              "      <td>6237</td>\n",
              "      <td>6237</td>\n",
              "      <td>6237.000000</td>\n",
              "    </tr>\n",
              "    <tr>\n",
              "      <th>unique</th>\n",
              "      <td>5568</td>\n",
              "      <td>3679</td>\n",
              "      <td>3370</td>\n",
              "      <td>36</td>\n",
              "      <td>342</td>\n",
              "      <td>5549</td>\n",
              "      <td>345</td>\n",
              "      <td>11</td>\n",
              "      <td>NaN</td>\n",
              "    </tr>\n",
              "    <tr>\n",
              "      <th>top</th>\n",
              "      <td>A Game of Thrones (A Song of Ice and Fire)</td>\n",
              "      <td>Agatha Christie</td>\n",
              "      <td>Paperback,– 5 Oct 2017</td>\n",
              "      <td>5.0 out of 5 stars</td>\n",
              "      <td>1 customer review</td>\n",
              "      <td>A Tinkle Double Digest is two Tinkle Digests i...</td>\n",
              "      <td>Action &amp; Adventure (Books)</td>\n",
              "      <td>Action &amp; Adventure</td>\n",
              "      <td>NaN</td>\n",
              "    </tr>\n",
              "    <tr>\n",
              "      <th>freq</th>\n",
              "      <td>4</td>\n",
              "      <td>69</td>\n",
              "      <td>48</td>\n",
              "      <td>1375</td>\n",
              "      <td>1040</td>\n",
              "      <td>8</td>\n",
              "      <td>947</td>\n",
              "      <td>818</td>\n",
              "      <td>NaN</td>\n",
              "    </tr>\n",
              "    <tr>\n",
              "      <th>mean</th>\n",
              "      <td>NaN</td>\n",
              "      <td>NaN</td>\n",
              "      <td>NaN</td>\n",
              "      <td>NaN</td>\n",
              "      <td>NaN</td>\n",
              "      <td>NaN</td>\n",
              "      <td>NaN</td>\n",
              "      <td>NaN</td>\n",
              "      <td>560.707516</td>\n",
              "    </tr>\n",
              "    <tr>\n",
              "      <th>std</th>\n",
              "      <td>NaN</td>\n",
              "      <td>NaN</td>\n",
              "      <td>NaN</td>\n",
              "      <td>NaN</td>\n",
              "      <td>NaN</td>\n",
              "      <td>NaN</td>\n",
              "      <td>NaN</td>\n",
              "      <td>NaN</td>\n",
              "      <td>690.110657</td>\n",
              "    </tr>\n",
              "    <tr>\n",
              "      <th>min</th>\n",
              "      <td>NaN</td>\n",
              "      <td>NaN</td>\n",
              "      <td>NaN</td>\n",
              "      <td>NaN</td>\n",
              "      <td>NaN</td>\n",
              "      <td>NaN</td>\n",
              "      <td>NaN</td>\n",
              "      <td>NaN</td>\n",
              "      <td>25.000000</td>\n",
              "    </tr>\n",
              "    <tr>\n",
              "      <th>25%</th>\n",
              "      <td>NaN</td>\n",
              "      <td>NaN</td>\n",
              "      <td>NaN</td>\n",
              "      <td>NaN</td>\n",
              "      <td>NaN</td>\n",
              "      <td>NaN</td>\n",
              "      <td>NaN</td>\n",
              "      <td>NaN</td>\n",
              "      <td>249.180000</td>\n",
              "    </tr>\n",
              "    <tr>\n",
              "      <th>50%</th>\n",
              "      <td>NaN</td>\n",
              "      <td>NaN</td>\n",
              "      <td>NaN</td>\n",
              "      <td>NaN</td>\n",
              "      <td>NaN</td>\n",
              "      <td>NaN</td>\n",
              "      <td>NaN</td>\n",
              "      <td>NaN</td>\n",
              "      <td>373.000000</td>\n",
              "    </tr>\n",
              "    <tr>\n",
              "      <th>75%</th>\n",
              "      <td>NaN</td>\n",
              "      <td>NaN</td>\n",
              "      <td>NaN</td>\n",
              "      <td>NaN</td>\n",
              "      <td>NaN</td>\n",
              "      <td>NaN</td>\n",
              "      <td>NaN</td>\n",
              "      <td>NaN</td>\n",
              "      <td>599.000000</td>\n",
              "    </tr>\n",
              "    <tr>\n",
              "      <th>max</th>\n",
              "      <td>NaN</td>\n",
              "      <td>NaN</td>\n",
              "      <td>NaN</td>\n",
              "      <td>NaN</td>\n",
              "      <td>NaN</td>\n",
              "      <td>NaN</td>\n",
              "      <td>NaN</td>\n",
              "      <td>NaN</td>\n",
              "      <td>14100.000000</td>\n",
              "    </tr>\n",
              "  </tbody>\n",
              "</table>\n",
              "</div>"
            ],
            "text/plain": [
              "                                             Title  ...         Price\n",
              "count                                         6237  ...   6237.000000\n",
              "unique                                        5568  ...           NaN\n",
              "top     A Game of Thrones (A Song of Ice and Fire)  ...           NaN\n",
              "freq                                             4  ...           NaN\n",
              "mean                                           NaN  ...    560.707516\n",
              "std                                            NaN  ...    690.110657\n",
              "min                                            NaN  ...     25.000000\n",
              "25%                                            NaN  ...    249.180000\n",
              "50%                                            NaN  ...    373.000000\n",
              "75%                                            NaN  ...    599.000000\n",
              "max                                            NaN  ...  14100.000000\n",
              "\n",
              "[11 rows x 9 columns]"
            ]
          },
          "metadata": {
            "tags": []
          },
          "execution_count": 1502
        }
      ]
    },
    {
      "cell_type": "code",
      "metadata": {
        "colab": {
          "base_uri": "https://localhost:8080/",
          "height": 207
        },
        "id": "4QuSJgVqqHJm",
        "outputId": "2b18ba01-0481-4dec-8527-983d08130b22"
      },
      "source": [
        "test_data.describe(include='all')"
      ],
      "execution_count": 1503,
      "outputs": [
        {
          "output_type": "execute_result",
          "data": {
            "text/html": [
              "<div>\n",
              "<style scoped>\n",
              "    .dataframe tbody tr th:only-of-type {\n",
              "        vertical-align: middle;\n",
              "    }\n",
              "\n",
              "    .dataframe tbody tr th {\n",
              "        vertical-align: top;\n",
              "    }\n",
              "\n",
              "    .dataframe thead th {\n",
              "        text-align: right;\n",
              "    }\n",
              "</style>\n",
              "<table border=\"1\" class=\"dataframe\">\n",
              "  <thead>\n",
              "    <tr style=\"text-align: right;\">\n",
              "      <th></th>\n",
              "      <th>Title</th>\n",
              "      <th>Author</th>\n",
              "      <th>Edition</th>\n",
              "      <th>Reviews</th>\n",
              "      <th>Ratings</th>\n",
              "      <th>Synopsis</th>\n",
              "      <th>Genre</th>\n",
              "      <th>BookCategory</th>\n",
              "    </tr>\n",
              "  </thead>\n",
              "  <tbody>\n",
              "    <tr>\n",
              "      <th>count</th>\n",
              "      <td>1560</td>\n",
              "      <td>1560</td>\n",
              "      <td>1560</td>\n",
              "      <td>1560</td>\n",
              "      <td>1560</td>\n",
              "      <td>1560</td>\n",
              "      <td>1560</td>\n",
              "      <td>1560</td>\n",
              "    </tr>\n",
              "    <tr>\n",
              "      <th>unique</th>\n",
              "      <td>1521</td>\n",
              "      <td>1224</td>\n",
              "      <td>1259</td>\n",
              "      <td>30</td>\n",
              "      <td>163</td>\n",
              "      <td>1519</td>\n",
              "      <td>225</td>\n",
              "      <td>11</td>\n",
              "    </tr>\n",
              "    <tr>\n",
              "      <th>top</th>\n",
              "      <td>Doing Justice: A Prosecutor’s Thoughts on Crim...</td>\n",
              "      <td>Agatha Christie</td>\n",
              "      <td>Paperback,– 5 Oct 2017</td>\n",
              "      <td>5.0 out of 5 stars</td>\n",
              "      <td>1 customer review</td>\n",
              "      <td>A Guardian Pick for 2019\\nThe People vs. Putin...</td>\n",
              "      <td>Action &amp; Adventure (Books)</td>\n",
              "      <td>Action &amp; Adventure</td>\n",
              "    </tr>\n",
              "    <tr>\n",
              "      <th>freq</th>\n",
              "      <td>3</td>\n",
              "      <td>18</td>\n",
              "      <td>12</td>\n",
              "      <td>376</td>\n",
              "      <td>288</td>\n",
              "      <td>3</td>\n",
              "      <td>236</td>\n",
              "      <td>218</td>\n",
              "    </tr>\n",
              "  </tbody>\n",
              "</table>\n",
              "</div>"
            ],
            "text/plain": [
              "                                                    Title  ...        BookCategory\n",
              "count                                                1560  ...                1560\n",
              "unique                                               1521  ...                  11\n",
              "top     Doing Justice: A Prosecutor’s Thoughts on Crim...  ...  Action & Adventure\n",
              "freq                                                    3  ...                 218\n",
              "\n",
              "[4 rows x 8 columns]"
            ]
          },
          "metadata": {
            "tags": []
          },
          "execution_count": 1503
        }
      ]
    },
    {
      "cell_type": "markdown",
      "metadata": {
        "id": "odRZvd4yjvZ7"
      },
      "source": [
        "Therfore there is no missing values."
      ]
    },
    {
      "cell_type": "code",
      "metadata": {
        "id": "-CSrIG3nj2xX",
        "colab": {
          "base_uri": "https://localhost:8080/"
        },
        "outputId": "d73e7bfb-d40c-4e22-d4ae-59e95e99e7b3"
      },
      "source": [
        "train_data.info()"
      ],
      "execution_count": 1504,
      "outputs": [
        {
          "output_type": "stream",
          "text": [
            "<class 'pandas.core.frame.DataFrame'>\n",
            "RangeIndex: 6237 entries, 0 to 6236\n",
            "Data columns (total 9 columns):\n",
            " #   Column        Non-Null Count  Dtype  \n",
            "---  ------        --------------  -----  \n",
            " 0   Title         6237 non-null   object \n",
            " 1   Author        6237 non-null   object \n",
            " 2   Edition       6237 non-null   object \n",
            " 3   Reviews       6237 non-null   object \n",
            " 4   Ratings       6237 non-null   object \n",
            " 5   Synopsis      6237 non-null   object \n",
            " 6   Genre         6237 non-null   object \n",
            " 7   BookCategory  6237 non-null   object \n",
            " 8   Price         6237 non-null   float64\n",
            "dtypes: float64(1), object(8)\n",
            "memory usage: 438.7+ KB\n"
          ],
          "name": "stdout"
        }
      ]
    },
    {
      "cell_type": "markdown",
      "metadata": {
        "id": "UbBwb5hpeaZw"
      },
      "source": [
        "Data Cleaning"
      ]
    },
    {
      "cell_type": "code",
      "metadata": {
        "colab": {
          "base_uri": "https://localhost:8080/",
          "height": 289
        },
        "id": "vhkCOtFvcYk2",
        "outputId": "889459b6-271f-4e5e-97a9-6fd49c7e7868"
      },
      "source": [
        "train_data['Ratings'] = train_data['Ratings'].str[0].astype('float64')\n",
        "train_data['Reviews'] = train_data['Reviews'].str[0].astype('float64')\n",
        "\n",
        "test_data['Ratings'] = test_data['Ratings'].str[0].astype('float64')\n",
        "test_data['Reviews'] = test_data['Reviews'].str[0].astype('float64')\n",
        "\n",
        "train_data.head()"
      ],
      "execution_count": 1505,
      "outputs": [
        {
          "output_type": "execute_result",
          "data": {
            "text/html": [
              "<div>\n",
              "<style scoped>\n",
              "    .dataframe tbody tr th:only-of-type {\n",
              "        vertical-align: middle;\n",
              "    }\n",
              "\n",
              "    .dataframe tbody tr th {\n",
              "        vertical-align: top;\n",
              "    }\n",
              "\n",
              "    .dataframe thead th {\n",
              "        text-align: right;\n",
              "    }\n",
              "</style>\n",
              "<table border=\"1\" class=\"dataframe\">\n",
              "  <thead>\n",
              "    <tr style=\"text-align: right;\">\n",
              "      <th></th>\n",
              "      <th>Title</th>\n",
              "      <th>Author</th>\n",
              "      <th>Edition</th>\n",
              "      <th>Reviews</th>\n",
              "      <th>Ratings</th>\n",
              "      <th>Synopsis</th>\n",
              "      <th>Genre</th>\n",
              "      <th>BookCategory</th>\n",
              "      <th>Price</th>\n",
              "    </tr>\n",
              "  </thead>\n",
              "  <tbody>\n",
              "    <tr>\n",
              "      <th>0</th>\n",
              "      <td>The Prisoner's Gold (The Hunters 3)</td>\n",
              "      <td>Chris Kuzneski</td>\n",
              "      <td>Paperback,– 10 Mar 2016</td>\n",
              "      <td>4.0</td>\n",
              "      <td>8.0</td>\n",
              "      <td>THE HUNTERS return in their third brilliant no...</td>\n",
              "      <td>Action &amp; Adventure (Books)</td>\n",
              "      <td>Action &amp; Adventure</td>\n",
              "      <td>220.00</td>\n",
              "    </tr>\n",
              "    <tr>\n",
              "      <th>1</th>\n",
              "      <td>Guru Dutt: A Tragedy in Three Acts</td>\n",
              "      <td>Arun Khopkar</td>\n",
              "      <td>Paperback,– 7 Nov 2012</td>\n",
              "      <td>3.0</td>\n",
              "      <td>1.0</td>\n",
              "      <td>A layered portrait of a troubled genius for wh...</td>\n",
              "      <td>Cinema &amp; Broadcast (Books)</td>\n",
              "      <td>Biographies, Diaries &amp; True Accounts</td>\n",
              "      <td>202.93</td>\n",
              "    </tr>\n",
              "    <tr>\n",
              "      <th>2</th>\n",
              "      <td>Leviathan (Penguin Classics)</td>\n",
              "      <td>Thomas Hobbes</td>\n",
              "      <td>Paperback,– 25 Feb 1982</td>\n",
              "      <td>4.0</td>\n",
              "      <td>6.0</td>\n",
              "      <td>\"During the time men live without a common Pow...</td>\n",
              "      <td>International Relations</td>\n",
              "      <td>Humour</td>\n",
              "      <td>299.00</td>\n",
              "    </tr>\n",
              "    <tr>\n",
              "      <th>3</th>\n",
              "      <td>A Pocket Full of Rye (Miss Marple)</td>\n",
              "      <td>Agatha Christie</td>\n",
              "      <td>Paperback,– 5 Oct 2017</td>\n",
              "      <td>4.0</td>\n",
              "      <td>1.0</td>\n",
              "      <td>A handful of grain is found in the pocket of a...</td>\n",
              "      <td>Contemporary Fiction (Books)</td>\n",
              "      <td>Crime, Thriller &amp; Mystery</td>\n",
              "      <td>180.00</td>\n",
              "    </tr>\n",
              "    <tr>\n",
              "      <th>4</th>\n",
              "      <td>LIFE 70 Years of Extraordinary Photography</td>\n",
              "      <td>Editors of Life</td>\n",
              "      <td>Hardcover,– 10 Oct 2006</td>\n",
              "      <td>5.0</td>\n",
              "      <td>1.0</td>\n",
              "      <td>For seven decades, \"Life\" has been thrilling t...</td>\n",
              "      <td>Photography Textbooks</td>\n",
              "      <td>Arts, Film &amp; Photography</td>\n",
              "      <td>965.62</td>\n",
              "    </tr>\n",
              "  </tbody>\n",
              "</table>\n",
              "</div>"
            ],
            "text/plain": [
              "                                        Title  ...   Price\n",
              "0         The Prisoner's Gold (The Hunters 3)  ...  220.00\n",
              "1          Guru Dutt: A Tragedy in Three Acts  ...  202.93\n",
              "2                Leviathan (Penguin Classics)  ...  299.00\n",
              "3          A Pocket Full of Rye (Miss Marple)  ...  180.00\n",
              "4  LIFE 70 Years of Extraordinary Photography  ...  965.62\n",
              "\n",
              "[5 rows x 9 columns]"
            ]
          },
          "metadata": {
            "tags": []
          },
          "execution_count": 1505
        }
      ]
    },
    {
      "cell_type": "code",
      "metadata": {
        "colab": {
          "base_uri": "https://localhost:8080/",
          "height": 289
        },
        "id": "-G4Q_wi5qbOR",
        "outputId": "a6737357-bf07-4aca-ff43-52a7b90baa34"
      },
      "source": [
        "test_data.head()"
      ],
      "execution_count": 1506,
      "outputs": [
        {
          "output_type": "execute_result",
          "data": {
            "text/html": [
              "<div>\n",
              "<style scoped>\n",
              "    .dataframe tbody tr th:only-of-type {\n",
              "        vertical-align: middle;\n",
              "    }\n",
              "\n",
              "    .dataframe tbody tr th {\n",
              "        vertical-align: top;\n",
              "    }\n",
              "\n",
              "    .dataframe thead th {\n",
              "        text-align: right;\n",
              "    }\n",
              "</style>\n",
              "<table border=\"1\" class=\"dataframe\">\n",
              "  <thead>\n",
              "    <tr style=\"text-align: right;\">\n",
              "      <th></th>\n",
              "      <th>Title</th>\n",
              "      <th>Author</th>\n",
              "      <th>Edition</th>\n",
              "      <th>Reviews</th>\n",
              "      <th>Ratings</th>\n",
              "      <th>Synopsis</th>\n",
              "      <th>Genre</th>\n",
              "      <th>BookCategory</th>\n",
              "    </tr>\n",
              "  </thead>\n",
              "  <tbody>\n",
              "    <tr>\n",
              "      <th>0</th>\n",
              "      <td>The Complete Sherlock Holmes: 2 Boxes sets</td>\n",
              "      <td>Sir Arthur Conan Doyle</td>\n",
              "      <td>Mass Market Paperback,– 1 Oct 1986</td>\n",
              "      <td>4.0</td>\n",
              "      <td>9.0</td>\n",
              "      <td>A collection of entire body of work of the She...</td>\n",
              "      <td>Short Stories (Books)</td>\n",
              "      <td>Crime, Thriller &amp; Mystery</td>\n",
              "    </tr>\n",
              "    <tr>\n",
              "      <th>1</th>\n",
              "      <td>Learn Docker - Fundamentals of Docker 18.x: Ev...</td>\n",
              "      <td>Gabriel N. Schenker</td>\n",
              "      <td>Paperback,– Import, 26 Apr 2018</td>\n",
              "      <td>5.0</td>\n",
              "      <td>1.0</td>\n",
              "      <td>Enhance your software deployment workflow usin...</td>\n",
              "      <td>Operating Systems Textbooks</td>\n",
              "      <td>Computing, Internet &amp; Digital Media</td>\n",
              "    </tr>\n",
              "    <tr>\n",
              "      <th>2</th>\n",
              "      <td>Big Girl</td>\n",
              "      <td>Danielle Steel</td>\n",
              "      <td>Paperback,– 17 Mar 2011</td>\n",
              "      <td>5.0</td>\n",
              "      <td>4.0</td>\n",
              "      <td>'Watch out, world. Here I come!'\\nFor Victoria...</td>\n",
              "      <td>Romance (Books)</td>\n",
              "      <td>Romance</td>\n",
              "    </tr>\n",
              "    <tr>\n",
              "      <th>3</th>\n",
              "      <td>Think Python: How to Think Like a Computer Sci...</td>\n",
              "      <td>Allen B. Downey</td>\n",
              "      <td>Paperback,– 2016</td>\n",
              "      <td>4.0</td>\n",
              "      <td>1.0</td>\n",
              "      <td>If you want to learn how to program, working w...</td>\n",
              "      <td>Programming &amp; Software Development (Books)</td>\n",
              "      <td>Computing, Internet &amp; Digital Media</td>\n",
              "    </tr>\n",
              "    <tr>\n",
              "      <th>4</th>\n",
              "      <td>Oxford Word Skills: Advanced - Idioms &amp; Phrasa...</td>\n",
              "      <td>Redman Gairns</td>\n",
              "      <td>Paperback,– 26 Dec 2011</td>\n",
              "      <td>4.0</td>\n",
              "      <td>9.0</td>\n",
              "      <td>Learn and practise the verbs, prepositions and...</td>\n",
              "      <td>Linguistics (Books)</td>\n",
              "      <td>Language, Linguistics &amp; Writing</td>\n",
              "    </tr>\n",
              "  </tbody>\n",
              "</table>\n",
              "</div>"
            ],
            "text/plain": [
              "                                               Title  ...                         BookCategory\n",
              "0         The Complete Sherlock Holmes: 2 Boxes sets  ...            Crime, Thriller & Mystery\n",
              "1  Learn Docker - Fundamentals of Docker 18.x: Ev...  ...  Computing, Internet & Digital Media\n",
              "2                                           Big Girl  ...                              Romance\n",
              "3  Think Python: How to Think Like a Computer Sci...  ...  Computing, Internet & Digital Media\n",
              "4  Oxford Word Skills: Advanced - Idioms & Phrasa...  ...      Language, Linguistics & Writing\n",
              "\n",
              "[5 rows x 8 columns]"
            ]
          },
          "metadata": {
            "tags": []
          },
          "execution_count": 1506
        }
      ]
    },
    {
      "cell_type": "code",
      "metadata": {
        "colab": {
          "base_uri": "https://localhost:8080/",
          "height": 204
        },
        "id": "_wuhA9HrcyVv",
        "outputId": "109563cf-bd18-4e06-8a85-d54729634bb3"
      },
      "source": [
        "train_data.drop(columns=['Title', 'Author', 'Synopsis', 'Genre'], inplace=True)\n",
        "test_data.drop(columns=['Title', 'Author', 'Synopsis', 'Genre'], inplace=True)\n",
        "train_data.head()"
      ],
      "execution_count": 1507,
      "outputs": [
        {
          "output_type": "execute_result",
          "data": {
            "text/html": [
              "<div>\n",
              "<style scoped>\n",
              "    .dataframe tbody tr th:only-of-type {\n",
              "        vertical-align: middle;\n",
              "    }\n",
              "\n",
              "    .dataframe tbody tr th {\n",
              "        vertical-align: top;\n",
              "    }\n",
              "\n",
              "    .dataframe thead th {\n",
              "        text-align: right;\n",
              "    }\n",
              "</style>\n",
              "<table border=\"1\" class=\"dataframe\">\n",
              "  <thead>\n",
              "    <tr style=\"text-align: right;\">\n",
              "      <th></th>\n",
              "      <th>Edition</th>\n",
              "      <th>Reviews</th>\n",
              "      <th>Ratings</th>\n",
              "      <th>BookCategory</th>\n",
              "      <th>Price</th>\n",
              "    </tr>\n",
              "  </thead>\n",
              "  <tbody>\n",
              "    <tr>\n",
              "      <th>0</th>\n",
              "      <td>Paperback,– 10 Mar 2016</td>\n",
              "      <td>4.0</td>\n",
              "      <td>8.0</td>\n",
              "      <td>Action &amp; Adventure</td>\n",
              "      <td>220.00</td>\n",
              "    </tr>\n",
              "    <tr>\n",
              "      <th>1</th>\n",
              "      <td>Paperback,– 7 Nov 2012</td>\n",
              "      <td>3.0</td>\n",
              "      <td>1.0</td>\n",
              "      <td>Biographies, Diaries &amp; True Accounts</td>\n",
              "      <td>202.93</td>\n",
              "    </tr>\n",
              "    <tr>\n",
              "      <th>2</th>\n",
              "      <td>Paperback,– 25 Feb 1982</td>\n",
              "      <td>4.0</td>\n",
              "      <td>6.0</td>\n",
              "      <td>Humour</td>\n",
              "      <td>299.00</td>\n",
              "    </tr>\n",
              "    <tr>\n",
              "      <th>3</th>\n",
              "      <td>Paperback,– 5 Oct 2017</td>\n",
              "      <td>4.0</td>\n",
              "      <td>1.0</td>\n",
              "      <td>Crime, Thriller &amp; Mystery</td>\n",
              "      <td>180.00</td>\n",
              "    </tr>\n",
              "    <tr>\n",
              "      <th>4</th>\n",
              "      <td>Hardcover,– 10 Oct 2006</td>\n",
              "      <td>5.0</td>\n",
              "      <td>1.0</td>\n",
              "      <td>Arts, Film &amp; Photography</td>\n",
              "      <td>965.62</td>\n",
              "    </tr>\n",
              "  </tbody>\n",
              "</table>\n",
              "</div>"
            ],
            "text/plain": [
              "                   Edition  ...   Price\n",
              "0  Paperback,– 10 Mar 2016  ...  220.00\n",
              "1   Paperback,– 7 Nov 2012  ...  202.93\n",
              "2  Paperback,– 25 Feb 1982  ...  299.00\n",
              "3   Paperback,– 5 Oct 2017  ...  180.00\n",
              "4  Hardcover,– 10 Oct 2006  ...  965.62\n",
              "\n",
              "[5 rows x 5 columns]"
            ]
          },
          "metadata": {
            "tags": []
          },
          "execution_count": 1507
        }
      ]
    },
    {
      "cell_type": "code",
      "metadata": {
        "colab": {
          "base_uri": "https://localhost:8080/",
          "height": 204
        },
        "id": "cpmlEmU7qo4X",
        "outputId": "8d4345d5-207b-4e5c-87c9-b748611bb202"
      },
      "source": [
        "test_data.head()"
      ],
      "execution_count": 1508,
      "outputs": [
        {
          "output_type": "execute_result",
          "data": {
            "text/html": [
              "<div>\n",
              "<style scoped>\n",
              "    .dataframe tbody tr th:only-of-type {\n",
              "        vertical-align: middle;\n",
              "    }\n",
              "\n",
              "    .dataframe tbody tr th {\n",
              "        vertical-align: top;\n",
              "    }\n",
              "\n",
              "    .dataframe thead th {\n",
              "        text-align: right;\n",
              "    }\n",
              "</style>\n",
              "<table border=\"1\" class=\"dataframe\">\n",
              "  <thead>\n",
              "    <tr style=\"text-align: right;\">\n",
              "      <th></th>\n",
              "      <th>Edition</th>\n",
              "      <th>Reviews</th>\n",
              "      <th>Ratings</th>\n",
              "      <th>BookCategory</th>\n",
              "    </tr>\n",
              "  </thead>\n",
              "  <tbody>\n",
              "    <tr>\n",
              "      <th>0</th>\n",
              "      <td>Mass Market Paperback,– 1 Oct 1986</td>\n",
              "      <td>4.0</td>\n",
              "      <td>9.0</td>\n",
              "      <td>Crime, Thriller &amp; Mystery</td>\n",
              "    </tr>\n",
              "    <tr>\n",
              "      <th>1</th>\n",
              "      <td>Paperback,– Import, 26 Apr 2018</td>\n",
              "      <td>5.0</td>\n",
              "      <td>1.0</td>\n",
              "      <td>Computing, Internet &amp; Digital Media</td>\n",
              "    </tr>\n",
              "    <tr>\n",
              "      <th>2</th>\n",
              "      <td>Paperback,– 17 Mar 2011</td>\n",
              "      <td>5.0</td>\n",
              "      <td>4.0</td>\n",
              "      <td>Romance</td>\n",
              "    </tr>\n",
              "    <tr>\n",
              "      <th>3</th>\n",
              "      <td>Paperback,– 2016</td>\n",
              "      <td>4.0</td>\n",
              "      <td>1.0</td>\n",
              "      <td>Computing, Internet &amp; Digital Media</td>\n",
              "    </tr>\n",
              "    <tr>\n",
              "      <th>4</th>\n",
              "      <td>Paperback,– 26 Dec 2011</td>\n",
              "      <td>4.0</td>\n",
              "      <td>9.0</td>\n",
              "      <td>Language, Linguistics &amp; Writing</td>\n",
              "    </tr>\n",
              "  </tbody>\n",
              "</table>\n",
              "</div>"
            ],
            "text/plain": [
              "                              Edition  ...                         BookCategory\n",
              "0  Mass Market Paperback,– 1 Oct 1986  ...            Crime, Thriller & Mystery\n",
              "1     Paperback,– Import, 26 Apr 2018  ...  Computing, Internet & Digital Media\n",
              "2             Paperback,– 17 Mar 2011  ...                              Romance\n",
              "3                    Paperback,– 2016  ...  Computing, Internet & Digital Media\n",
              "4             Paperback,– 26 Dec 2011  ...      Language, Linguistics & Writing\n",
              "\n",
              "[5 rows x 4 columns]"
            ]
          },
          "metadata": {
            "tags": []
          },
          "execution_count": 1508
        }
      ]
    },
    {
      "cell_type": "code",
      "metadata": {
        "colab": {
          "base_uri": "https://localhost:8080/",
          "height": 204
        },
        "id": "lNKMnIirknn8",
        "outputId": "78457f0a-cf4f-47dc-db34-e10ea706425d"
      },
      "source": [
        "train_data['Edition type'] = train_data['Edition'].str.split('–').str[0].str.replace(',', '')\n",
        "train_data['Edition year'] = train_data['Edition'].str.split(' ').str[-1]\n",
        "\n",
        "test_data['Edition type'] = test_data['Edition'].str.split('–').str[0].str.replace(',', '')\n",
        "test_data['Edition year'] = test_data['Edition'].str.split(' ').str[-1]\n",
        "\n",
        "train_data.head()"
      ],
      "execution_count": 1509,
      "outputs": [
        {
          "output_type": "execute_result",
          "data": {
            "text/html": [
              "<div>\n",
              "<style scoped>\n",
              "    .dataframe tbody tr th:only-of-type {\n",
              "        vertical-align: middle;\n",
              "    }\n",
              "\n",
              "    .dataframe tbody tr th {\n",
              "        vertical-align: top;\n",
              "    }\n",
              "\n",
              "    .dataframe thead th {\n",
              "        text-align: right;\n",
              "    }\n",
              "</style>\n",
              "<table border=\"1\" class=\"dataframe\">\n",
              "  <thead>\n",
              "    <tr style=\"text-align: right;\">\n",
              "      <th></th>\n",
              "      <th>Edition</th>\n",
              "      <th>Reviews</th>\n",
              "      <th>Ratings</th>\n",
              "      <th>BookCategory</th>\n",
              "      <th>Price</th>\n",
              "      <th>Edition type</th>\n",
              "      <th>Edition year</th>\n",
              "    </tr>\n",
              "  </thead>\n",
              "  <tbody>\n",
              "    <tr>\n",
              "      <th>0</th>\n",
              "      <td>Paperback,– 10 Mar 2016</td>\n",
              "      <td>4.0</td>\n",
              "      <td>8.0</td>\n",
              "      <td>Action &amp; Adventure</td>\n",
              "      <td>220.00</td>\n",
              "      <td>Paperback</td>\n",
              "      <td>2016</td>\n",
              "    </tr>\n",
              "    <tr>\n",
              "      <th>1</th>\n",
              "      <td>Paperback,– 7 Nov 2012</td>\n",
              "      <td>3.0</td>\n",
              "      <td>1.0</td>\n",
              "      <td>Biographies, Diaries &amp; True Accounts</td>\n",
              "      <td>202.93</td>\n",
              "      <td>Paperback</td>\n",
              "      <td>2012</td>\n",
              "    </tr>\n",
              "    <tr>\n",
              "      <th>2</th>\n",
              "      <td>Paperback,– 25 Feb 1982</td>\n",
              "      <td>4.0</td>\n",
              "      <td>6.0</td>\n",
              "      <td>Humour</td>\n",
              "      <td>299.00</td>\n",
              "      <td>Paperback</td>\n",
              "      <td>1982</td>\n",
              "    </tr>\n",
              "    <tr>\n",
              "      <th>3</th>\n",
              "      <td>Paperback,– 5 Oct 2017</td>\n",
              "      <td>4.0</td>\n",
              "      <td>1.0</td>\n",
              "      <td>Crime, Thriller &amp; Mystery</td>\n",
              "      <td>180.00</td>\n",
              "      <td>Paperback</td>\n",
              "      <td>2017</td>\n",
              "    </tr>\n",
              "    <tr>\n",
              "      <th>4</th>\n",
              "      <td>Hardcover,– 10 Oct 2006</td>\n",
              "      <td>5.0</td>\n",
              "      <td>1.0</td>\n",
              "      <td>Arts, Film &amp; Photography</td>\n",
              "      <td>965.62</td>\n",
              "      <td>Hardcover</td>\n",
              "      <td>2006</td>\n",
              "    </tr>\n",
              "  </tbody>\n",
              "</table>\n",
              "</div>"
            ],
            "text/plain": [
              "                   Edition  Reviews  Ratings  ...   Price  Edition type Edition year\n",
              "0  Paperback,– 10 Mar 2016      4.0      8.0  ...  220.00     Paperback         2016\n",
              "1   Paperback,– 7 Nov 2012      3.0      1.0  ...  202.93     Paperback         2012\n",
              "2  Paperback,– 25 Feb 1982      4.0      6.0  ...  299.00     Paperback         1982\n",
              "3   Paperback,– 5 Oct 2017      4.0      1.0  ...  180.00     Paperback         2017\n",
              "4  Hardcover,– 10 Oct 2006      5.0      1.0  ...  965.62     Hardcover         2006\n",
              "\n",
              "[5 rows x 7 columns]"
            ]
          },
          "metadata": {
            "tags": []
          },
          "execution_count": 1509
        }
      ]
    },
    {
      "cell_type": "code",
      "metadata": {
        "colab": {
          "base_uri": "https://localhost:8080/",
          "height": 204
        },
        "id": "3IWOVatzq3-n",
        "outputId": "95f57017-ac00-46e9-d2fa-19afe9ec191a"
      },
      "source": [
        "test_data.head()"
      ],
      "execution_count": 1510,
      "outputs": [
        {
          "output_type": "execute_result",
          "data": {
            "text/html": [
              "<div>\n",
              "<style scoped>\n",
              "    .dataframe tbody tr th:only-of-type {\n",
              "        vertical-align: middle;\n",
              "    }\n",
              "\n",
              "    .dataframe tbody tr th {\n",
              "        vertical-align: top;\n",
              "    }\n",
              "\n",
              "    .dataframe thead th {\n",
              "        text-align: right;\n",
              "    }\n",
              "</style>\n",
              "<table border=\"1\" class=\"dataframe\">\n",
              "  <thead>\n",
              "    <tr style=\"text-align: right;\">\n",
              "      <th></th>\n",
              "      <th>Edition</th>\n",
              "      <th>Reviews</th>\n",
              "      <th>Ratings</th>\n",
              "      <th>BookCategory</th>\n",
              "      <th>Edition type</th>\n",
              "      <th>Edition year</th>\n",
              "    </tr>\n",
              "  </thead>\n",
              "  <tbody>\n",
              "    <tr>\n",
              "      <th>0</th>\n",
              "      <td>Mass Market Paperback,– 1 Oct 1986</td>\n",
              "      <td>4.0</td>\n",
              "      <td>9.0</td>\n",
              "      <td>Crime, Thriller &amp; Mystery</td>\n",
              "      <td>Mass Market Paperback</td>\n",
              "      <td>1986</td>\n",
              "    </tr>\n",
              "    <tr>\n",
              "      <th>1</th>\n",
              "      <td>Paperback,– Import, 26 Apr 2018</td>\n",
              "      <td>5.0</td>\n",
              "      <td>1.0</td>\n",
              "      <td>Computing, Internet &amp; Digital Media</td>\n",
              "      <td>Paperback</td>\n",
              "      <td>2018</td>\n",
              "    </tr>\n",
              "    <tr>\n",
              "      <th>2</th>\n",
              "      <td>Paperback,– 17 Mar 2011</td>\n",
              "      <td>5.0</td>\n",
              "      <td>4.0</td>\n",
              "      <td>Romance</td>\n",
              "      <td>Paperback</td>\n",
              "      <td>2011</td>\n",
              "    </tr>\n",
              "    <tr>\n",
              "      <th>3</th>\n",
              "      <td>Paperback,– 2016</td>\n",
              "      <td>4.0</td>\n",
              "      <td>1.0</td>\n",
              "      <td>Computing, Internet &amp; Digital Media</td>\n",
              "      <td>Paperback</td>\n",
              "      <td>2016</td>\n",
              "    </tr>\n",
              "    <tr>\n",
              "      <th>4</th>\n",
              "      <td>Paperback,– 26 Dec 2011</td>\n",
              "      <td>4.0</td>\n",
              "      <td>9.0</td>\n",
              "      <td>Language, Linguistics &amp; Writing</td>\n",
              "      <td>Paperback</td>\n",
              "      <td>2011</td>\n",
              "    </tr>\n",
              "  </tbody>\n",
              "</table>\n",
              "</div>"
            ],
            "text/plain": [
              "                              Edition  ...  Edition year\n",
              "0  Mass Market Paperback,– 1 Oct 1986  ...          1986\n",
              "1     Paperback,– Import, 26 Apr 2018  ...          2018\n",
              "2             Paperback,– 17 Mar 2011  ...          2011\n",
              "3                    Paperback,– 2016  ...          2016\n",
              "4             Paperback,– 26 Dec 2011  ...          2011\n",
              "\n",
              "[5 rows x 6 columns]"
            ]
          },
          "metadata": {
            "tags": []
          },
          "execution_count": 1510
        }
      ]
    },
    {
      "cell_type": "code",
      "metadata": {
        "colab": {
          "base_uri": "https://localhost:8080/"
        },
        "id": "L2MDCkGKmlzL",
        "outputId": "e25cb801-abfa-490a-b5ff-fcbc34232069"
      },
      "source": [
        "train_data['Edition type'].value_counts()"
      ],
      "execution_count": 1511,
      "outputs": [
        {
          "output_type": "execute_result",
          "data": {
            "text/plain": [
              "Paperback                5193\n",
              "Hardcover                 823\n",
              "Mass Market Paperback     155\n",
              "Sheet music                24\n",
              "Flexibound                 15\n",
              "Cards                       8\n",
              "Spiral-bound                4\n",
              "Tankobon Softcover          3\n",
              "Loose Leaf                  2\n",
              "Board book                  1\n",
              "Plastic Comb                1\n",
              "Perfect Paperback           1\n",
              "Leather Bound               1\n",
              "(German)Paperback           1\n",
              "(Kannada)Paperback          1\n",
              "Product Bundle              1\n",
              "(French)Paperback           1\n",
              "Library Binding             1\n",
              "(Spanish)Paperback          1\n",
              "Name: Edition type, dtype: int64"
            ]
          },
          "metadata": {
            "tags": []
          },
          "execution_count": 1511
        }
      ]
    },
    {
      "cell_type": "code",
      "metadata": {
        "colab": {
          "base_uri": "https://localhost:8080/",
          "height": 204
        },
        "id": "-BMvqwYOwxqJ",
        "outputId": "1c576cad-0fc4-4e9b-ae07-51c00ffc5808"
      },
      "source": [
        "train_data.drop('Edition', axis=1, inplace=True)\n",
        "test_data.drop('Edition', axis=1, inplace=True)\n",
        "train_data.head()"
      ],
      "execution_count": 1512,
      "outputs": [
        {
          "output_type": "execute_result",
          "data": {
            "text/html": [
              "<div>\n",
              "<style scoped>\n",
              "    .dataframe tbody tr th:only-of-type {\n",
              "        vertical-align: middle;\n",
              "    }\n",
              "\n",
              "    .dataframe tbody tr th {\n",
              "        vertical-align: top;\n",
              "    }\n",
              "\n",
              "    .dataframe thead th {\n",
              "        text-align: right;\n",
              "    }\n",
              "</style>\n",
              "<table border=\"1\" class=\"dataframe\">\n",
              "  <thead>\n",
              "    <tr style=\"text-align: right;\">\n",
              "      <th></th>\n",
              "      <th>Reviews</th>\n",
              "      <th>Ratings</th>\n",
              "      <th>BookCategory</th>\n",
              "      <th>Price</th>\n",
              "      <th>Edition type</th>\n",
              "      <th>Edition year</th>\n",
              "    </tr>\n",
              "  </thead>\n",
              "  <tbody>\n",
              "    <tr>\n",
              "      <th>0</th>\n",
              "      <td>4.0</td>\n",
              "      <td>8.0</td>\n",
              "      <td>Action &amp; Adventure</td>\n",
              "      <td>220.00</td>\n",
              "      <td>Paperback</td>\n",
              "      <td>2016</td>\n",
              "    </tr>\n",
              "    <tr>\n",
              "      <th>1</th>\n",
              "      <td>3.0</td>\n",
              "      <td>1.0</td>\n",
              "      <td>Biographies, Diaries &amp; True Accounts</td>\n",
              "      <td>202.93</td>\n",
              "      <td>Paperback</td>\n",
              "      <td>2012</td>\n",
              "    </tr>\n",
              "    <tr>\n",
              "      <th>2</th>\n",
              "      <td>4.0</td>\n",
              "      <td>6.0</td>\n",
              "      <td>Humour</td>\n",
              "      <td>299.00</td>\n",
              "      <td>Paperback</td>\n",
              "      <td>1982</td>\n",
              "    </tr>\n",
              "    <tr>\n",
              "      <th>3</th>\n",
              "      <td>4.0</td>\n",
              "      <td>1.0</td>\n",
              "      <td>Crime, Thriller &amp; Mystery</td>\n",
              "      <td>180.00</td>\n",
              "      <td>Paperback</td>\n",
              "      <td>2017</td>\n",
              "    </tr>\n",
              "    <tr>\n",
              "      <th>4</th>\n",
              "      <td>5.0</td>\n",
              "      <td>1.0</td>\n",
              "      <td>Arts, Film &amp; Photography</td>\n",
              "      <td>965.62</td>\n",
              "      <td>Hardcover</td>\n",
              "      <td>2006</td>\n",
              "    </tr>\n",
              "  </tbody>\n",
              "</table>\n",
              "</div>"
            ],
            "text/plain": [
              "   Reviews  Ratings  ... Edition type  Edition year\n",
              "0      4.0      8.0  ...    Paperback          2016\n",
              "1      3.0      1.0  ...    Paperback          2012\n",
              "2      4.0      6.0  ...    Paperback          1982\n",
              "3      4.0      1.0  ...    Paperback          2017\n",
              "4      5.0      1.0  ...    Hardcover          2006\n",
              "\n",
              "[5 rows x 6 columns]"
            ]
          },
          "metadata": {
            "tags": []
          },
          "execution_count": 1512
        }
      ]
    },
    {
      "cell_type": "code",
      "metadata": {
        "colab": {
          "base_uri": "https://localhost:8080/"
        },
        "id": "itZ16jvDxNbs",
        "outputId": "4037882f-2233-4438-8b32-5b417d9323ef"
      },
      "source": [
        "train_data['BookCategory'].value_counts()"
      ],
      "execution_count": 1513,
      "outputs": [
        {
          "output_type": "execute_result",
          "data": {
            "text/plain": [
              "Action & Adventure                      818\n",
              "Crime, Thriller & Mystery               723\n",
              "Biographies, Diaries & True Accounts    596\n",
              "Language, Linguistics & Writing         594\n",
              "Comics & Mangas                         583\n",
              "Romance                                 560\n",
              "Humour                                  540\n",
              "Arts, Film & Photography                517\n",
              "Computing, Internet & Digital Media     510\n",
              "Sports                                  471\n",
              "Politics                                325\n",
              "Name: BookCategory, dtype: int64"
            ]
          },
          "metadata": {
            "tags": []
          },
          "execution_count": 1513
        }
      ]
    },
    {
      "cell_type": "code",
      "metadata": {
        "colab": {
          "base_uri": "https://localhost:8080/"
        },
        "id": "icTadXVaz1p4",
        "outputId": "0018edc0-591d-47a3-a33a-01d07acf3fcc"
      },
      "source": [
        "train_data.dtypes"
      ],
      "execution_count": 1514,
      "outputs": [
        {
          "output_type": "execute_result",
          "data": {
            "text/plain": [
              "Reviews         float64\n",
              "Ratings         float64\n",
              "BookCategory     object\n",
              "Price           float64\n",
              "Edition type     object\n",
              "Edition year     object\n",
              "dtype: object"
            ]
          },
          "metadata": {
            "tags": []
          },
          "execution_count": 1514
        }
      ]
    },
    {
      "cell_type": "code",
      "metadata": {
        "colab": {
          "base_uri": "https://localhost:8080/",
          "height": 558
        },
        "id": "0lJkoiJYvlpz",
        "outputId": "46889e1b-4035-4e81-89f9-04521abcf7a8"
      },
      "source": [
        "import matplotlib.pyplot as plt\n",
        "import seaborn as sns\n",
        "\n",
        "plt.figure(figsize=(20, 8))\n",
        "sns.barplot(x=train_data['BookCategory'], y=train_data['Price'])\n",
        "plt.xticks(rotation=90)\n",
        "plt.plot()"
      ],
      "execution_count": 1515,
      "outputs": [
        {
          "output_type": "execute_result",
          "data": {
            "text/plain": [
              "[]"
            ]
          },
          "metadata": {
            "tags": []
          },
          "execution_count": 1515
        },
        {
          "output_type": "display_data",
          "data": {
            "image/png": "[encoded data removed]",
            "text/plain": [
              "<Figure size 1440x576 with 1 Axes>"
            ]
          },
          "metadata": {
            "tags": [],
            "needs_background": "light"
          }
        }
      ]
    },
    {
      "cell_type": "code",
      "metadata": {
        "colab": {
          "base_uri": "https://localhost:8080/",
          "height": 502
        },
        "id": "tNliXdKrxHwZ",
        "outputId": "c3c43ec4-9aff-43a3-9e9a-fbc62e347840"
      },
      "source": [
        "plt.figure(figsize=(20, 8))\n",
        "sns.barplot(x=train_data['Edition type'], y=train_data['Price'])\n",
        "plt.xticks(rotation=90)\n",
        "plt.plot()"
      ],
      "execution_count": 1516,
      "outputs": [
        {
          "output_type": "execute_result",
          "data": {
            "text/plain": [
              "[]"
            ]
          },
          "metadata": {
            "tags": []
          },
          "execution_count": 1516
        },
        {
          "output_type": "display_data",
          "data": {
            "image/png": "[encoded data removed]",
            "text/plain": [
              "<Figure size 1440x576 with 1 Axes>"
            ]
          },
          "metadata": {
            "tags": [],
            "needs_background": "light"
          }
        }
      ]
    },
    {
      "cell_type": "code",
      "metadata": {
        "colab": {
          "base_uri": "https://localhost:8080/"
        },
        "id": "gcbfoIkEmv4j",
        "outputId": "9646e7dd-8426-4b97-8a04-a7b66331237d"
      },
      "source": [
        "train_data.info()"
      ],
      "execution_count": 1517,
      "outputs": [
        {
          "output_type": "stream",
          "text": [
            "<class 'pandas.core.frame.DataFrame'>\n",
            "RangeIndex: 6237 entries, 0 to 6236\n",
            "Data columns (total 6 columns):\n",
            " #   Column        Non-Null Count  Dtype  \n",
            "---  ------        --------------  -----  \n",
            " 0   Reviews       6237 non-null   float64\n",
            " 1   Ratings       6237 non-null   float64\n",
            " 2   BookCategory  6237 non-null   object \n",
            " 3   Price         6237 non-null   float64\n",
            " 4   Edition type  6237 non-null   object \n",
            " 5   Edition year  6237 non-null   object \n",
            "dtypes: float64(3), object(3)\n",
            "memory usage: 292.5+ KB\n"
          ],
          "name": "stdout"
        }
      ]
    },
    {
      "cell_type": "markdown",
      "metadata": {
        "id": "5n-rlSk0uGjy"
      },
      "source": [
        "Priinting the rows which does not contain digits in the edition year feature."
      ]
    },
    {
      "cell_type": "code",
      "metadata": {
        "colab": {
          "base_uri": "https://localhost:8080/",
          "height": 700
        },
        "id": "DI_pQRVZpBR5",
        "outputId": "ef1d4cba-f845-4c18-a4ae-386a957b683d"
      },
      "source": [
        "pd.set_option('display.max_rows', 50)\n",
        "x = train_data[train_data['Edition year'].apply(lambda x: str(x).isalpha())]\n",
        "x"
      ],
      "execution_count": 1518,
      "outputs": [
        {
          "output_type": "execute_result",
          "data": {
            "text/html": [
              "<div>\n",
              "<style scoped>\n",
              "    .dataframe tbody tr th:only-of-type {\n",
              "        vertical-align: middle;\n",
              "    }\n",
              "\n",
              "    .dataframe tbody tr th {\n",
              "        vertical-align: top;\n",
              "    }\n",
              "\n",
              "    .dataframe thead th {\n",
              "        text-align: right;\n",
              "    }\n",
              "</style>\n",
              "<table border=\"1\" class=\"dataframe\">\n",
              "  <thead>\n",
              "    <tr style=\"text-align: right;\">\n",
              "      <th></th>\n",
              "      <th>Reviews</th>\n",
              "      <th>Ratings</th>\n",
              "      <th>BookCategory</th>\n",
              "      <th>Price</th>\n",
              "      <th>Edition type</th>\n",
              "      <th>Edition year</th>\n",
              "    </tr>\n",
              "  </thead>\n",
              "  <tbody>\n",
              "    <tr>\n",
              "      <th>169</th>\n",
              "      <td>5.0</td>\n",
              "      <td>2.0</td>\n",
              "      <td>Action &amp; Adventure</td>\n",
              "      <td>418.0</td>\n",
              "      <td>Paperback</td>\n",
              "      <td>Import</td>\n",
              "    </tr>\n",
              "    <tr>\n",
              "      <th>235</th>\n",
              "      <td>3.0</td>\n",
              "      <td>6.0</td>\n",
              "      <td>Arts, Film &amp; Photography</td>\n",
              "      <td>1453.0</td>\n",
              "      <td>Plastic Comb</td>\n",
              "      <td>NTSC</td>\n",
              "    </tr>\n",
              "    <tr>\n",
              "      <th>582</th>\n",
              "      <td>4.0</td>\n",
              "      <td>7.0</td>\n",
              "      <td>Arts, Film &amp; Photography</td>\n",
              "      <td>415.0</td>\n",
              "      <td>Paperback</td>\n",
              "      <td>Import</td>\n",
              "    </tr>\n",
              "    <tr>\n",
              "      <th>972</th>\n",
              "      <td>3.0</td>\n",
              "      <td>1.0</td>\n",
              "      <td>Comics &amp; Mangas</td>\n",
              "      <td>445.0</td>\n",
              "      <td>Paperback</td>\n",
              "      <td>Import</td>\n",
              "    </tr>\n",
              "    <tr>\n",
              "      <th>1233</th>\n",
              "      <td>5.0</td>\n",
              "      <td>1.0</td>\n",
              "      <td>Action &amp; Adventure</td>\n",
              "      <td>277.0</td>\n",
              "      <td>Paperback</td>\n",
              "      <td>Import</td>\n",
              "    </tr>\n",
              "    <tr>\n",
              "      <th>1558</th>\n",
              "      <td>5.0</td>\n",
              "      <td>1.0</td>\n",
              "      <td>Crime, Thriller &amp; Mystery</td>\n",
              "      <td>100.0</td>\n",
              "      <td>Hardcover</td>\n",
              "      <td>Facsimile</td>\n",
              "    </tr>\n",
              "    <tr>\n",
              "      <th>1605</th>\n",
              "      <td>4.0</td>\n",
              "      <td>2.0</td>\n",
              "      <td>Language, Linguistics &amp; Writing</td>\n",
              "      <td>399.0</td>\n",
              "      <td>Paperback</td>\n",
              "      <td>set</td>\n",
              "    </tr>\n",
              "    <tr>\n",
              "      <th>1631</th>\n",
              "      <td>4.0</td>\n",
              "      <td>1.0</td>\n",
              "      <td>Sports</td>\n",
              "      <td>709.0</td>\n",
              "      <td>Paperback</td>\n",
              "      <td>Import</td>\n",
              "    </tr>\n",
              "    <tr>\n",
              "      <th>1643</th>\n",
              "      <td>3.0</td>\n",
              "      <td>5.0</td>\n",
              "      <td>Arts, Film &amp; Photography</td>\n",
              "      <td>220.0</td>\n",
              "      <td>Paperback</td>\n",
              "      <td>Edition</td>\n",
              "    </tr>\n",
              "    <tr>\n",
              "      <th>1769</th>\n",
              "      <td>5.0</td>\n",
              "      <td>1.0</td>\n",
              "      <td>Computing, Internet &amp; Digital Media</td>\n",
              "      <td>2248.0</td>\n",
              "      <td>Hardcover</td>\n",
              "      <td>set</td>\n",
              "    </tr>\n",
              "    <tr>\n",
              "      <th>2101</th>\n",
              "      <td>4.0</td>\n",
              "      <td>2.0</td>\n",
              "      <td>Language, Linguistics &amp; Writing</td>\n",
              "      <td>798.0</td>\n",
              "      <td>Hardcover</td>\n",
              "      <td>Unabridged</td>\n",
              "    </tr>\n",
              "    <tr>\n",
              "      <th>2229</th>\n",
              "      <td>4.0</td>\n",
              "      <td>3.0</td>\n",
              "      <td>Biographies, Diaries &amp; True Accounts</td>\n",
              "      <td>188.0</td>\n",
              "      <td>Paperback</td>\n",
              "      <td>Print</td>\n",
              "    </tr>\n",
              "    <tr>\n",
              "      <th>2660</th>\n",
              "      <td>4.0</td>\n",
              "      <td>2.0</td>\n",
              "      <td>Action &amp; Adventure</td>\n",
              "      <td>270.0</td>\n",
              "      <td>Paperback</td>\n",
              "      <td>set</td>\n",
              "    </tr>\n",
              "    <tr>\n",
              "      <th>2779</th>\n",
              "      <td>5.0</td>\n",
              "      <td>4.0</td>\n",
              "      <td>Arts, Film &amp; Photography</td>\n",
              "      <td>805.0</td>\n",
              "      <td>Paperback</td>\n",
              "      <td>Import</td>\n",
              "    </tr>\n",
              "    <tr>\n",
              "      <th>3511</th>\n",
              "      <td>5.0</td>\n",
              "      <td>3.0</td>\n",
              "      <td>Comics &amp; Mangas</td>\n",
              "      <td>1499.0</td>\n",
              "      <td>Paperback</td>\n",
              "      <td>set</td>\n",
              "    </tr>\n",
              "    <tr>\n",
              "      <th>3875</th>\n",
              "      <td>3.0</td>\n",
              "      <td>7.0</td>\n",
              "      <td>Crime, Thriller &amp; Mystery</td>\n",
              "      <td>896.0</td>\n",
              "      <td>Hardcover</td>\n",
              "      <td>Import</td>\n",
              "    </tr>\n",
              "    <tr>\n",
              "      <th>3960</th>\n",
              "      <td>4.0</td>\n",
              "      <td>3.0</td>\n",
              "      <td>Biographies, Diaries &amp; True Accounts</td>\n",
              "      <td>123.0</td>\n",
              "      <td>Paperback</td>\n",
              "      <td>Audiobook</td>\n",
              "    </tr>\n",
              "    <tr>\n",
              "      <th>4036</th>\n",
              "      <td>5.0</td>\n",
              "      <td>1.0</td>\n",
              "      <td>Sports</td>\n",
              "      <td>1826.0</td>\n",
              "      <td>Paperback</td>\n",
              "      <td>Import</td>\n",
              "    </tr>\n",
              "    <tr>\n",
              "      <th>4403</th>\n",
              "      <td>4.0</td>\n",
              "      <td>2.0</td>\n",
              "      <td>Arts, Film &amp; Photography</td>\n",
              "      <td>1542.0</td>\n",
              "      <td>Hardcover</td>\n",
              "      <td>Import</td>\n",
              "    </tr>\n",
              "    <tr>\n",
              "      <th>5117</th>\n",
              "      <td>3.0</td>\n",
              "      <td>5.0</td>\n",
              "      <td>Biographies, Diaries &amp; True Accounts</td>\n",
              "      <td>180.0</td>\n",
              "      <td>Paperback</td>\n",
              "      <td>set</td>\n",
              "    </tr>\n",
              "    <tr>\n",
              "      <th>5860</th>\n",
              "      <td>3.0</td>\n",
              "      <td>8.0</td>\n",
              "      <td>Language, Linguistics &amp; Writing</td>\n",
              "      <td>127.0</td>\n",
              "      <td>Paperback</td>\n",
              "      <td>Print</td>\n",
              "    </tr>\n",
              "  </tbody>\n",
              "</table>\n",
              "</div>"
            ],
            "text/plain": [
              "      Reviews  Ratings  ...  Edition type  Edition year\n",
              "169       5.0      2.0  ...     Paperback        Import\n",
              "235       3.0      6.0  ...  Plastic Comb          NTSC\n",
              "582       4.0      7.0  ...     Paperback        Import\n",
              "972       3.0      1.0  ...     Paperback        Import\n",
              "1233      5.0      1.0  ...     Paperback        Import\n",
              "1558      5.0      1.0  ...     Hardcover     Facsimile\n",
              "1605      4.0      2.0  ...     Paperback           set\n",
              "1631      4.0      1.0  ...     Paperback        Import\n",
              "1643      3.0      5.0  ...     Paperback       Edition\n",
              "1769      5.0      1.0  ...     Hardcover           set\n",
              "2101      4.0      2.0  ...     Hardcover    Unabridged\n",
              "2229      4.0      3.0  ...     Paperback         Print\n",
              "2660      4.0      2.0  ...     Paperback           set\n",
              "2779      5.0      4.0  ...     Paperback        Import\n",
              "3511      5.0      3.0  ...     Paperback           set\n",
              "3875      3.0      7.0  ...     Hardcover        Import\n",
              "3960      4.0      3.0  ...     Paperback     Audiobook\n",
              "4036      5.0      1.0  ...     Paperback        Import\n",
              "4403      4.0      2.0  ...     Hardcover        Import\n",
              "5117      3.0      5.0  ...     Paperback           set\n",
              "5860      3.0      8.0  ...     Paperback         Print\n",
              "\n",
              "[21 rows x 6 columns]"
            ]
          },
          "metadata": {
            "tags": []
          },
          "execution_count": 1518
        }
      ]
    },
    {
      "cell_type": "code",
      "metadata": {
        "colab": {
          "base_uri": "https://localhost:8080/",
          "height": 328
        },
        "id": "wWVhPFkGrJam",
        "outputId": "2ef851bb-ed72-485a-d887-11b4f14115e5"
      },
      "source": [
        "pd.set_option('display.max_rows', 50)\n",
        "x1 = test_data[test_data['Edition year'].apply(lambda x: str(x).isalpha())]\n",
        "x1"
      ],
      "execution_count": 1519,
      "outputs": [
        {
          "output_type": "execute_result",
          "data": {
            "text/html": [
              "<div>\n",
              "<style scoped>\n",
              "    .dataframe tbody tr th:only-of-type {\n",
              "        vertical-align: middle;\n",
              "    }\n",
              "\n",
              "    .dataframe tbody tr th {\n",
              "        vertical-align: top;\n",
              "    }\n",
              "\n",
              "    .dataframe thead th {\n",
              "        text-align: right;\n",
              "    }\n",
              "</style>\n",
              "<table border=\"1\" class=\"dataframe\">\n",
              "  <thead>\n",
              "    <tr style=\"text-align: right;\">\n",
              "      <th></th>\n",
              "      <th>Reviews</th>\n",
              "      <th>Ratings</th>\n",
              "      <th>BookCategory</th>\n",
              "      <th>Edition type</th>\n",
              "      <th>Edition year</th>\n",
              "    </tr>\n",
              "  </thead>\n",
              "  <tbody>\n",
              "    <tr>\n",
              "      <th>97</th>\n",
              "      <td>3.0</td>\n",
              "      <td>1.0</td>\n",
              "      <td>Romance</td>\n",
              "      <td>Paperback</td>\n",
              "      <td>Print</td>\n",
              "    </tr>\n",
              "    <tr>\n",
              "      <th>178</th>\n",
              "      <td>4.0</td>\n",
              "      <td>1.0</td>\n",
              "      <td>Comics &amp; Mangas</td>\n",
              "      <td>Paperback</td>\n",
              "      <td>Illustrated</td>\n",
              "    </tr>\n",
              "    <tr>\n",
              "      <th>396</th>\n",
              "      <td>5.0</td>\n",
              "      <td>2.0</td>\n",
              "      <td>Politics</td>\n",
              "      <td>Paperback</td>\n",
              "      <td>Print</td>\n",
              "    </tr>\n",
              "    <tr>\n",
              "      <th>579</th>\n",
              "      <td>3.0</td>\n",
              "      <td>1.0</td>\n",
              "      <td>Politics</td>\n",
              "      <td>Hardcover</td>\n",
              "      <td>Import</td>\n",
              "    </tr>\n",
              "    <tr>\n",
              "      <th>955</th>\n",
              "      <td>4.0</td>\n",
              "      <td>1.0</td>\n",
              "      <td>Sports</td>\n",
              "      <td>Paperback</td>\n",
              "      <td>Print</td>\n",
              "    </tr>\n",
              "    <tr>\n",
              "      <th>1179</th>\n",
              "      <td>4.0</td>\n",
              "      <td>3.0</td>\n",
              "      <td>Comics &amp; Mangas</td>\n",
              "      <td>Hardcover</td>\n",
              "      <td>set</td>\n",
              "    </tr>\n",
              "    <tr>\n",
              "      <th>1191</th>\n",
              "      <td>5.0</td>\n",
              "      <td>1.0</td>\n",
              "      <td>Comics &amp; Mangas</td>\n",
              "      <td>Paperback</td>\n",
              "      <td>Import</td>\n",
              "    </tr>\n",
              "    <tr>\n",
              "      <th>1408</th>\n",
              "      <td>5.0</td>\n",
              "      <td>3.0</td>\n",
              "      <td>Humour</td>\n",
              "      <td>Paperback</td>\n",
              "      <td>set</td>\n",
              "    </tr>\n",
              "    <tr>\n",
              "      <th>1541</th>\n",
              "      <td>3.0</td>\n",
              "      <td>1.0</td>\n",
              "      <td>Computing, Internet &amp; Digital Media</td>\n",
              "      <td>Paperback</td>\n",
              "      <td>Import</td>\n",
              "    </tr>\n",
              "  </tbody>\n",
              "</table>\n",
              "</div>"
            ],
            "text/plain": [
              "      Reviews  Ratings  ... Edition type Edition year\n",
              "97        3.0      1.0  ...    Paperback        Print\n",
              "178       4.0      1.0  ...    Paperback  Illustrated\n",
              "396       5.0      2.0  ...    Paperback        Print\n",
              "579       3.0      1.0  ...    Hardcover       Import\n",
              "955       4.0      1.0  ...    Paperback        Print\n",
              "1179      4.0      3.0  ...    Hardcover          set\n",
              "1191      5.0      1.0  ...    Paperback       Import\n",
              "1408      5.0      3.0  ...    Paperback          set\n",
              "1541      3.0      1.0  ...    Paperback       Import\n",
              "\n",
              "[9 rows x 5 columns]"
            ]
          },
          "metadata": {
            "tags": []
          },
          "execution_count": 1519
        }
      ]
    },
    {
      "cell_type": "markdown",
      "metadata": {
        "id": "RDqBFrvMrOgQ"
      },
      "source": [
        "We cannt drop those instances as we need the output od the same shape.\n",
        "\n",
        "Thefore filling a random values in those instances. "
      ]
    },
    {
      "cell_type": "code",
      "metadata": {
        "id": "QmQc728drQT7"
      },
      "source": [
        "train_data = train_data[train_data['Edition year'].apply(lambda x: str(x).isdigit())]"
      ],
      "execution_count": 1520,
      "outputs": []
    },
    {
      "cell_type": "markdown",
      "metadata": {
        "id": "avIOllibxtrM"
      },
      "source": [
        "New train data shape"
      ]
    },
    {
      "cell_type": "code",
      "metadata": {
        "colab": {
          "base_uri": "https://localhost:8080/"
        },
        "id": "LtFeR3DEtZeG",
        "outputId": "6d7bf230-9575-4f81-dda5-670647da62d6"
      },
      "source": [
        "train_data.shape"
      ],
      "execution_count": 1521,
      "outputs": [
        {
          "output_type": "execute_result",
          "data": {
            "text/plain": [
              "(6216, 6)"
            ]
          },
          "metadata": {
            "tags": []
          },
          "execution_count": 1521
        }
      ]
    },
    {
      "cell_type": "code",
      "metadata": {
        "id": "k_Bh_chXuUka"
      },
      "source": [
        "train_data['Edition year'] = train_data['Edition year'].astype('int64')\n"
      ],
      "execution_count": 1522,
      "outputs": []
    },
    {
      "cell_type": "code",
      "metadata": {
        "colab": {
          "base_uri": "https://localhost:8080/"
        },
        "id": "uOQz4IB0rl3D",
        "outputId": "a65e5ee2-baaf-4748-a13a-33be4cbc345d"
      },
      "source": [
        "test_data.dtypes"
      ],
      "execution_count": 1523,
      "outputs": [
        {
          "output_type": "execute_result",
          "data": {
            "text/plain": [
              "Reviews         float64\n",
              "Ratings         float64\n",
              "BookCategory     object\n",
              "Edition type     object\n",
              "Edition year     object\n",
              "dtype: object"
            ]
          },
          "metadata": {
            "tags": []
          },
          "execution_count": 1523
        }
      ]
    },
    {
      "cell_type": "code",
      "metadata": {
        "id": "0st14E7Mrqml"
      },
      "source": [
        "import random \n",
        "test_data['Edition year'] = test_data['Edition year'].apply(\n",
        "    lambda x: str(x) if str(x).isdigit() else random.randint(train_data['Edition year'].min(),\n",
        "                                                             train_data['Edition year'].max()))\n",
        "test_data['Edition year'] = test_data['Edition year'].astype('int64')"
      ],
      "execution_count": 1524,
      "outputs": []
    },
    {
      "cell_type": "code",
      "metadata": {
        "colab": {
          "base_uri": "https://localhost:8080/"
        },
        "id": "8OBySk08uxOP",
        "outputId": "e0d802ef-cd65-4406-9b25-f3fc4fe029e3"
      },
      "source": [
        "train_data['Edition year'].corr(train_data.Price)"
      ],
      "execution_count": 1525,
      "outputs": [
        {
          "output_type": "execute_result",
          "data": {
            "text/plain": [
              "-0.0248136947601535"
            ]
          },
          "metadata": {
            "tags": []
          },
          "execution_count": 1525
        }
      ]
    },
    {
      "cell_type": "code",
      "metadata": {
        "colab": {
          "base_uri": "https://localhost:8080/",
          "height": 173
        },
        "id": "ZFLnrQziu85-",
        "outputId": "ca55669e-c5c3-4887-bf46-64ae75525bf9"
      },
      "source": [
        "train_data.corr()"
      ],
      "execution_count": 1526,
      "outputs": [
        {
          "output_type": "execute_result",
          "data": {
            "text/html": [
              "<div>\n",
              "<style scoped>\n",
              "    .dataframe tbody tr th:only-of-type {\n",
              "        vertical-align: middle;\n",
              "    }\n",
              "\n",
              "    .dataframe tbody tr th {\n",
              "        vertical-align: top;\n",
              "    }\n",
              "\n",
              "    .dataframe thead th {\n",
              "        text-align: right;\n",
              "    }\n",
              "</style>\n",
              "<table border=\"1\" class=\"dataframe\">\n",
              "  <thead>\n",
              "    <tr style=\"text-align: right;\">\n",
              "      <th></th>\n",
              "      <th>Reviews</th>\n",
              "      <th>Ratings</th>\n",
              "      <th>Price</th>\n",
              "      <th>Edition year</th>\n",
              "    </tr>\n",
              "  </thead>\n",
              "  <tbody>\n",
              "    <tr>\n",
              "      <th>Reviews</th>\n",
              "      <td>1.000000</td>\n",
              "      <td>-0.127613</td>\n",
              "      <td>0.134032</td>\n",
              "      <td>0.006040</td>\n",
              "    </tr>\n",
              "    <tr>\n",
              "      <th>Ratings</th>\n",
              "      <td>-0.127613</td>\n",
              "      <td>1.000000</td>\n",
              "      <td>-0.061427</td>\n",
              "      <td>0.020141</td>\n",
              "    </tr>\n",
              "    <tr>\n",
              "      <th>Price</th>\n",
              "      <td>0.134032</td>\n",
              "      <td>-0.061427</td>\n",
              "      <td>1.000000</td>\n",
              "      <td>-0.024814</td>\n",
              "    </tr>\n",
              "    <tr>\n",
              "      <th>Edition year</th>\n",
              "      <td>0.006040</td>\n",
              "      <td>0.020141</td>\n",
              "      <td>-0.024814</td>\n",
              "      <td>1.000000</td>\n",
              "    </tr>\n",
              "  </tbody>\n",
              "</table>\n",
              "</div>"
            ],
            "text/plain": [
              "               Reviews   Ratings     Price  Edition year\n",
              "Reviews       1.000000 -0.127613  0.134032      0.006040\n",
              "Ratings      -0.127613  1.000000 -0.061427      0.020141\n",
              "Price         0.134032 -0.061427  1.000000     -0.024814\n",
              "Edition year  0.006040  0.020141 -0.024814      1.000000"
            ]
          },
          "metadata": {
            "tags": []
          },
          "execution_count": 1526
        }
      ]
    },
    {
      "cell_type": "code",
      "metadata": {
        "colab": {
          "base_uri": "https://localhost:8080/",
          "height": 359
        },
        "id": "obhawJDaLP04",
        "outputId": "b19ef0a2-0d65-4be2-d31d-90ba93f76d37"
      },
      "source": [
        "train_data.head()\n",
        "train_data = train_data[['Reviews',\t'Ratings',\t'BookCategory',\t'Edition type',\t'Edition year',\t'Price']]\n",
        "train_data.head(10)"
      ],
      "execution_count": 1527,
      "outputs": [
        {
          "output_type": "execute_result",
          "data": {
            "text/html": [
              "<div>\n",
              "<style scoped>\n",
              "    .dataframe tbody tr th:only-of-type {\n",
              "        vertical-align: middle;\n",
              "    }\n",
              "\n",
              "    .dataframe tbody tr th {\n",
              "        vertical-align: top;\n",
              "    }\n",
              "\n",
              "    .dataframe thead th {\n",
              "        text-align: right;\n",
              "    }\n",
              "</style>\n",
              "<table border=\"1\" class=\"dataframe\">\n",
              "  <thead>\n",
              "    <tr style=\"text-align: right;\">\n",
              "      <th></th>\n",
              "      <th>Reviews</th>\n",
              "      <th>Ratings</th>\n",
              "      <th>BookCategory</th>\n",
              "      <th>Edition type</th>\n",
              "      <th>Edition year</th>\n",
              "      <th>Price</th>\n",
              "    </tr>\n",
              "  </thead>\n",
              "  <tbody>\n",
              "    <tr>\n",
              "      <th>0</th>\n",
              "      <td>4.0</td>\n",
              "      <td>8.0</td>\n",
              "      <td>Action &amp; Adventure</td>\n",
              "      <td>Paperback</td>\n",
              "      <td>2016</td>\n",
              "      <td>220.00</td>\n",
              "    </tr>\n",
              "    <tr>\n",
              "      <th>1</th>\n",
              "      <td>3.0</td>\n",
              "      <td>1.0</td>\n",
              "      <td>Biographies, Diaries &amp; True Accounts</td>\n",
              "      <td>Paperback</td>\n",
              "      <td>2012</td>\n",
              "      <td>202.93</td>\n",
              "    </tr>\n",
              "    <tr>\n",
              "      <th>2</th>\n",
              "      <td>4.0</td>\n",
              "      <td>6.0</td>\n",
              "      <td>Humour</td>\n",
              "      <td>Paperback</td>\n",
              "      <td>1982</td>\n",
              "      <td>299.00</td>\n",
              "    </tr>\n",
              "    <tr>\n",
              "      <th>3</th>\n",
              "      <td>4.0</td>\n",
              "      <td>1.0</td>\n",
              "      <td>Crime, Thriller &amp; Mystery</td>\n",
              "      <td>Paperback</td>\n",
              "      <td>2017</td>\n",
              "      <td>180.00</td>\n",
              "    </tr>\n",
              "    <tr>\n",
              "      <th>4</th>\n",
              "      <td>5.0</td>\n",
              "      <td>1.0</td>\n",
              "      <td>Arts, Film &amp; Photography</td>\n",
              "      <td>Hardcover</td>\n",
              "      <td>2006</td>\n",
              "      <td>965.62</td>\n",
              "    </tr>\n",
              "    <tr>\n",
              "      <th>5</th>\n",
              "      <td>4.0</td>\n",
              "      <td>8.0</td>\n",
              "      <td>Sports</td>\n",
              "      <td>Paperback</td>\n",
              "      <td>2009</td>\n",
              "      <td>900.00</td>\n",
              "    </tr>\n",
              "    <tr>\n",
              "      <th>6</th>\n",
              "      <td>4.0</td>\n",
              "      <td>7.0</td>\n",
              "      <td>Crime, Thriller &amp; Mystery</td>\n",
              "      <td>Paperback</td>\n",
              "      <td>2017</td>\n",
              "      <td>224.00</td>\n",
              "    </tr>\n",
              "    <tr>\n",
              "      <th>7</th>\n",
              "      <td>4.0</td>\n",
              "      <td>1.0</td>\n",
              "      <td>Sports</td>\n",
              "      <td>Hardcover</td>\n",
              "      <td>2018</td>\n",
              "      <td>836.00</td>\n",
              "    </tr>\n",
              "    <tr>\n",
              "      <th>8</th>\n",
              "      <td>4.0</td>\n",
              "      <td>1.0</td>\n",
              "      <td>Biographies, Diaries &amp; True Accounts</td>\n",
              "      <td>Paperback</td>\n",
              "      <td>2015</td>\n",
              "      <td>130.00</td>\n",
              "    </tr>\n",
              "    <tr>\n",
              "      <th>9</th>\n",
              "      <td>4.0</td>\n",
              "      <td>1.0</td>\n",
              "      <td>Action &amp; Adventure</td>\n",
              "      <td>Paperback</td>\n",
              "      <td>2013</td>\n",
              "      <td>695.00</td>\n",
              "    </tr>\n",
              "  </tbody>\n",
              "</table>\n",
              "</div>"
            ],
            "text/plain": [
              "   Reviews  Ratings  ... Edition year   Price\n",
              "0      4.0      8.0  ...         2016  220.00\n",
              "1      3.0      1.0  ...         2012  202.93\n",
              "2      4.0      6.0  ...         1982  299.00\n",
              "3      4.0      1.0  ...         2017  180.00\n",
              "4      5.0      1.0  ...         2006  965.62\n",
              "5      4.0      8.0  ...         2009  900.00\n",
              "6      4.0      7.0  ...         2017  224.00\n",
              "7      4.0      1.0  ...         2018  836.00\n",
              "8      4.0      1.0  ...         2015  130.00\n",
              "9      4.0      1.0  ...         2013  695.00\n",
              "\n",
              "[10 rows x 6 columns]"
            ]
          },
          "metadata": {
            "tags": []
          },
          "execution_count": 1527
        }
      ]
    },
    {
      "cell_type": "code",
      "metadata": {
        "colab": {
          "base_uri": "https://localhost:8080/"
        },
        "id": "nd4c0FVlsTWN",
        "outputId": "5f88049d-ba0a-433a-bd7a-4cb39347baa6"
      },
      "source": [
        "# checking if the label encoding can be done\n",
        "set(train_data['BookCategory'])==set(test_data['BookCategory'])"
      ],
      "execution_count": 1528,
      "outputs": [
        {
          "output_type": "execute_result",
          "data": {
            "text/plain": [
              "True"
            ]
          },
          "metadata": {
            "tags": []
          },
          "execution_count": 1528
        }
      ]
    },
    {
      "cell_type": "code",
      "metadata": {
        "colab": {
          "base_uri": "https://localhost:8080/"
        },
        "id": "u-vPldkGshqv",
        "outputId": "71f86b38-4966-4dcb-d328-595053e83e3f"
      },
      "source": [
        "set(train_data['Edition type'])==set(test_data['Edition type'])"
      ],
      "execution_count": 1529,
      "outputs": [
        {
          "output_type": "execute_result",
          "data": {
            "text/plain": [
              "False"
            ]
          },
          "metadata": {
            "tags": []
          },
          "execution_count": 1529
        }
      ]
    },
    {
      "cell_type": "code",
      "metadata": {
        "colab": {
          "base_uri": "https://localhost:8080/"
        },
        "id": "a2YlS-n9tNRr",
        "outputId": "2d017fe8-de5b-44e6-aac8-0d5a41b94fc7"
      },
      "source": [
        "train_data['Edition type'].value_counts()"
      ],
      "execution_count": 1530,
      "outputs": [
        {
          "output_type": "execute_result",
          "data": {
            "text/plain": [
              "Paperback                5178\n",
              "Hardcover                 818\n",
              "Mass Market Paperback     155\n",
              "Sheet music                24\n",
              "Flexibound                 15\n",
              "Cards                       8\n",
              "Spiral-bound                4\n",
              "Tankobon Softcover          3\n",
              "Loose Leaf                  2\n",
              "Board book                  1\n",
              "Perfect Paperback           1\n",
              "Leather Bound               1\n",
              "(German)Paperback           1\n",
              "(Kannada)Paperback          1\n",
              "Product Bundle              1\n",
              "(French)Paperback           1\n",
              "Library Binding             1\n",
              "(Spanish)Paperback          1\n",
              "Name: Edition type, dtype: int64"
            ]
          },
          "metadata": {
            "tags": []
          },
          "execution_count": 1530
        }
      ]
    },
    {
      "cell_type": "code",
      "metadata": {
        "colab": {
          "base_uri": "https://localhost:8080/"
        },
        "id": "jwZD3kYcstKf",
        "outputId": "70718a02-9985-4b44-c7c4-9aad19e83d99"
      },
      "source": [
        "test_data['Edition type'].value_counts()"
      ],
      "execution_count": 1531,
      "outputs": [
        {
          "output_type": "execute_result",
          "data": {
            "text/plain": [
              "Paperback                1265\n",
              "Hardcover                 233\n",
              "Mass Market Paperback      45\n",
              "Sheet music                 8\n",
              "Flexibound                  4\n",
              "Spiral-bound                2\n",
              "Loose Leaf                  1\n",
              "Cards                       1\n",
              "(Chinese)Paperback          1\n",
              "Name: Edition type, dtype: int64"
            ]
          },
          "metadata": {
            "tags": []
          },
          "execution_count": 1531
        }
      ]
    },
    {
      "cell_type": "code",
      "metadata": {
        "colab": {
          "base_uri": "https://localhost:8080/"
        },
        "id": "M2FN8lSUuHFO",
        "outputId": "b5e6a3c4-aa39-46e3-8d49-0b0373646232"
      },
      "source": [
        "train_data['Edition type'] = train_data['Edition type'].replace(['Tankobon Softcover',\n",
        "                                                                 'Loose Leaf',\n",
        "                                                                 'Board book',\n",
        "                                                                 'Leather Bound',\n",
        "                                                                 'Product Bundle',\n",
        "                                                                 'Library Binding'], 'Rare')\n",
        "train_data['Edition type'] = train_data['Edition type'].replace(['Perfect Paperback',\n",
        "                                                                 '(German)Paperback',\n",
        "                                                                 '(Kannada)Paperback',\n",
        "                                                                 '(French)Paperback',\n",
        "                                                                 '(Spanish)Paperback'], 'Paperback')\n",
        "train_data['Edition type'].value_counts()"
      ],
      "execution_count": 1532,
      "outputs": [
        {
          "output_type": "execute_result",
          "data": {
            "text/plain": [
              "Paperback                5183\n",
              "Hardcover                 818\n",
              "Mass Market Paperback     155\n",
              "Sheet music                24\n",
              "Flexibound                 15\n",
              "Rare                        9\n",
              "Cards                       8\n",
              "Spiral-bound                4\n",
              "Name: Edition type, dtype: int64"
            ]
          },
          "metadata": {
            "tags": []
          },
          "execution_count": 1532
        }
      ]
    },
    {
      "cell_type": "code",
      "metadata": {
        "colab": {
          "base_uri": "https://localhost:8080/"
        },
        "id": "7szhp9c1wU1D",
        "outputId": "1dab8362-d8ba-4c2d-a997-ee2cbb2cb89c"
      },
      "source": [
        "test_data['Edition type'] = test_data['Edition type'].replace(['Loose Leaf'], 'Rare')\n",
        "test_data['Edition type'] = test_data['Edition type'].replace(['(Chinese)Paperback'], 'Paperback')\n",
        "test_data['Edition type'].value_counts()"
      ],
      "execution_count": 1533,
      "outputs": [
        {
          "output_type": "execute_result",
          "data": {
            "text/plain": [
              "Paperback                1266\n",
              "Hardcover                 233\n",
              "Mass Market Paperback      45\n",
              "Sheet music                 8\n",
              "Flexibound                  4\n",
              "Spiral-bound                2\n",
              "Cards                       1\n",
              "Rare                        1\n",
              "Name: Edition type, dtype: int64"
            ]
          },
          "metadata": {
            "tags": []
          },
          "execution_count": 1533
        }
      ]
    },
    {
      "cell_type": "code",
      "metadata": {
        "colab": {
          "base_uri": "https://localhost:8080/"
        },
        "id": "ipE6UP_6xDdI",
        "outputId": "e7d16261-a45b-4a7a-9222-3e278f451a44"
      },
      "source": [
        "set(train_data['Edition type'])==set(test_data['Edition type'])"
      ],
      "execution_count": 1534,
      "outputs": [
        {
          "output_type": "execute_result",
          "data": {
            "text/plain": [
              "True"
            ]
          },
          "metadata": {
            "tags": []
          },
          "execution_count": 1534
        }
      ]
    },
    {
      "cell_type": "markdown",
      "metadata": {
        "id": "TwNm4TEcxSE4"
      },
      "source": [
        "Thus the label encoding of both the object features can be done. "
      ]
    },
    {
      "cell_type": "code",
      "metadata": {
        "colab": {
          "base_uri": "https://localhost:8080/"
        },
        "id": "PSJMgObYIFU3",
        "outputId": "8c7899a1-0b5f-40a9-e37c-89b80b909a42"
      },
      "source": [
        "print(train_data.dtypes)\n",
        "\n",
        "from sklearn.preprocessing import LabelEncoder\n",
        "\n",
        "labelencoder = LabelEncoder()\n",
        "train_data['BookCategory'] = labelencoder.fit_transform(train_data['BookCategory'])\n",
        "test_data['BookCategory'] = labelencoder.fit_transform(test_data['BookCategory'])\n",
        "\n",
        "train_data['Edition type'] = labelencoder.fit_transform(train_data['Edition type'])\n",
        "test_data['Edition type'] = labelencoder.fit_transform(test_data['Edition type'])\n",
        "\n",
        "print(train_data.head())"
      ],
      "execution_count": 1535,
      "outputs": [
        {
          "output_type": "stream",
          "text": [
            "Reviews         float64\n",
            "Ratings         float64\n",
            "BookCategory     object\n",
            "Edition type     object\n",
            "Edition year      int64\n",
            "Price           float64\n",
            "dtype: object\n",
            "   Reviews  Ratings  BookCategory  Edition type  Edition year   Price\n",
            "0      4.0      8.0             0             4          2016  220.00\n",
            "1      3.0      1.0             2             4          2012  202.93\n",
            "2      4.0      6.0             6             4          1982  299.00\n",
            "3      4.0      1.0             5             4          2017  180.00\n",
            "4      5.0      1.0             1             2          2006  965.62\n"
          ],
          "name": "stdout"
        }
      ]
    },
    {
      "cell_type": "code",
      "metadata": {
        "id": "nsbztC28xlbe"
      },
      "source": [
        "from sklearn.model_selection import train_test_split\n",
        "\n",
        "array = train_data.values\n",
        "X = array[:, 0:5]\n",
        "Y = array[:, 5]\n",
        "\n",
        "#X = train_data.drop('Price', axis=1)\n",
        "#Y = train_data['Price'].values\n",
        "x_train, x_valid, y_train, y_valid = train_test_split(X, Y, test_size=0.20, random_state=1)"
      ],
      "execution_count": 1536,
      "outputs": []
    },
    {
      "cell_type": "code",
      "metadata": {
        "id": "1KPJW0w7z4E7",
        "colab": {
          "base_uri": "https://localhost:8080/"
        },
        "outputId": "c43f44bd-d0ac-4803-ed99-8ff5a7d0cc42"
      },
      "source": [
        "from sklearn.linear_model import LinearRegression\n",
        "from sklearn.linear_model import Lasso\n",
        "from sklearn.linear_model import ElasticNet\n",
        "from sklearn.tree import DecisionTreeRegressor\n",
        "from sklearn.neighbors import KNeighborsRegressor\n",
        "from sklearn.svm import SVR\n",
        "from sklearn.ensemble import RandomForestRegressor\n",
        "from sklearn.ensemble import ExtraTreesRegressor\n",
        "from sklearn.metrics import mean_absolute_error\n",
        "\n",
        "# Spot check algorithms\n",
        "models = []\n",
        "models.append(('LR', LinearRegression()))\n",
        "models.append(('LA', Lasso()))\n",
        "models.append(('EN', ElasticNet()))\n",
        "models.append(('DTR', DecisionTreeRegressor()))\n",
        "models.append(('KNR', KNeighborsRegressor()))\n",
        "models.append(('RFR', RandomForestRegressor()))\n",
        "models.append(('ETR', ExtraTreesRegressor()))\n",
        "\n",
        "from sklearn.metrics import mean_absolute_error\n",
        "\n",
        "# Evaluate each model\n",
        "results = []\n",
        "names = []\n",
        "for name, model in models:\n",
        "  model.fit(x_train, y_train)\n",
        "  predictions = model.predict(x_valid)\n",
        "  cv_results = mean_absolute_error(y_valid, predictions)\n",
        "  results.append(cv_results)\n",
        "  names.append(name)\n",
        "  msg = '%s : %f '% (name, cv_results)\n",
        "  print(msg)"
      ],
      "execution_count": 1537,
      "outputs": [
        {
          "output_type": "stream",
          "text": [
            "LR : 359.190061 \n",
            "LA : 359.157673 \n",
            "EN : 361.426859 \n",
            "DTR : 401.885369 \n",
            "KNR : 355.300333 \n",
            "RFR : 359.424497 \n",
            "ETR : 373.801440 \n"
          ],
          "name": "stdout"
        }
      ]
    },
    {
      "cell_type": "code",
      "metadata": {
        "id": "9mjWyX_r1TBY",
        "colab": {
          "base_uri": "https://localhost:8080/"
        },
        "outputId": "a429d971-a00f-4a11-fdb1-94642c04b395"
      },
      "source": [
        "# Final model\n",
        "knn = KNeighborsRegressor()\n",
        "knn.fit(x_train, y_train)"
      ],
      "execution_count": 1538,
      "outputs": [
        {
          "output_type": "execute_result",
          "data": {
            "text/plain": [
              "KNeighborsRegressor(algorithm='auto', leaf_size=30, metric='minkowski',\n",
              "                    metric_params=None, n_jobs=None, n_neighbors=5, p=2,\n",
              "                    weights='uniform')"
            ]
          },
          "metadata": {
            "tags": []
          },
          "execution_count": 1538
        }
      ]
    },
    {
      "cell_type": "markdown",
      "metadata": {
        "id": "Armyy-IlpsxB"
      },
      "source": [
        "Predictions on the test data"
      ]
    },
    {
      "cell_type": "code",
      "metadata": {
        "colab": {
          "base_uri": "https://localhost:8080/",
          "height": 204
        },
        "id": "7NqJZKVwxkmh",
        "outputId": "530c57b2-3788-4d95-bd8a-d9c3087b5fd7"
      },
      "source": [
        "test_data.head()"
      ],
      "execution_count": 1539,
      "outputs": [
        {
          "output_type": "execute_result",
          "data": {
            "text/html": [
              "<div>\n",
              "<style scoped>\n",
              "    .dataframe tbody tr th:only-of-type {\n",
              "        vertical-align: middle;\n",
              "    }\n",
              "\n",
              "    .dataframe tbody tr th {\n",
              "        vertical-align: top;\n",
              "    }\n",
              "\n",
              "    .dataframe thead th {\n",
              "        text-align: right;\n",
              "    }\n",
              "</style>\n",
              "<table border=\"1\" class=\"dataframe\">\n",
              "  <thead>\n",
              "    <tr style=\"text-align: right;\">\n",
              "      <th></th>\n",
              "      <th>Reviews</th>\n",
              "      <th>Ratings</th>\n",
              "      <th>BookCategory</th>\n",
              "      <th>Edition type</th>\n",
              "      <th>Edition year</th>\n",
              "    </tr>\n",
              "  </thead>\n",
              "  <tbody>\n",
              "    <tr>\n",
              "      <th>0</th>\n",
              "      <td>4.0</td>\n",
              "      <td>9.0</td>\n",
              "      <td>5</td>\n",
              "      <td>3</td>\n",
              "      <td>1986</td>\n",
              "    </tr>\n",
              "    <tr>\n",
              "      <th>1</th>\n",
              "      <td>5.0</td>\n",
              "      <td>1.0</td>\n",
              "      <td>4</td>\n",
              "      <td>4</td>\n",
              "      <td>2018</td>\n",
              "    </tr>\n",
              "    <tr>\n",
              "      <th>2</th>\n",
              "      <td>5.0</td>\n",
              "      <td>4.0</td>\n",
              "      <td>9</td>\n",
              "      <td>4</td>\n",
              "      <td>2011</td>\n",
              "    </tr>\n",
              "    <tr>\n",
              "      <th>3</th>\n",
              "      <td>4.0</td>\n",
              "      <td>1.0</td>\n",
              "      <td>4</td>\n",
              "      <td>4</td>\n",
              "      <td>2016</td>\n",
              "    </tr>\n",
              "    <tr>\n",
              "      <th>4</th>\n",
              "      <td>4.0</td>\n",
              "      <td>9.0</td>\n",
              "      <td>7</td>\n",
              "      <td>4</td>\n",
              "      <td>2011</td>\n",
              "    </tr>\n",
              "  </tbody>\n",
              "</table>\n",
              "</div>"
            ],
            "text/plain": [
              "   Reviews  Ratings  BookCategory  Edition type  Edition year\n",
              "0      4.0      9.0             5             3          1986\n",
              "1      5.0      1.0             4             4          2018\n",
              "2      5.0      4.0             9             4          2011\n",
              "3      4.0      1.0             4             4          2016\n",
              "4      4.0      9.0             7             4          2011"
            ]
          },
          "metadata": {
            "tags": []
          },
          "execution_count": 1539
        }
      ]
    },
    {
      "cell_type": "code",
      "metadata": {
        "id": "-Pjd9ezBxoMS"
      },
      "source": [
        "predictions = knn.predict(test_data)"
      ],
      "execution_count": 1540,
      "outputs": []
    },
    {
      "cell_type": "code",
      "metadata": {
        "id": "R-muWbb1yPey"
      },
      "source": [
        ""
      ],
      "execution_count": 1540,
      "outputs": []
    },
    {
      "cell_type": "code",
      "metadata": {
        "id": "rPE5Vm81yQ_Z"
      },
      "source": [
        "#from google.colab import files\n",
        "#uploaded = files.upload()"
      ],
      "execution_count": 1541,
      "outputs": []
    },
    {
      "cell_type": "code",
      "metadata": {
        "colab": {
          "base_uri": "https://localhost:8080/",
          "height": 419
        },
        "id": "2LZzU65lyeMV",
        "outputId": "95f9afa9-88e5-4a6d-9761-ca9f0dc32219"
      },
      "source": [
        "sub = pd.read_excel('Sample_Submission.xlsx')\n",
        "sub"
      ],
      "execution_count": 1542,
      "outputs": [
        {
          "output_type": "execute_result",
          "data": {
            "text/html": [
              "<div>\n",
              "<style scoped>\n",
              "    .dataframe tbody tr th:only-of-type {\n",
              "        vertical-align: middle;\n",
              "    }\n",
              "\n",
              "    .dataframe tbody tr th {\n",
              "        vertical-align: top;\n",
              "    }\n",
              "\n",
              "    .dataframe thead th {\n",
              "        text-align: right;\n",
              "    }\n",
              "</style>\n",
              "<table border=\"1\" class=\"dataframe\">\n",
              "  <thead>\n",
              "    <tr style=\"text-align: right;\">\n",
              "      <th></th>\n",
              "      <th>Price</th>\n",
              "    </tr>\n",
              "  </thead>\n",
              "  <tbody>\n",
              "    <tr>\n",
              "      <th>0</th>\n",
              "      <td>119</td>\n",
              "    </tr>\n",
              "    <tr>\n",
              "      <th>1</th>\n",
              "      <td>123</td>\n",
              "    </tr>\n",
              "    <tr>\n",
              "      <th>2</th>\n",
              "      <td>108</td>\n",
              "    </tr>\n",
              "    <tr>\n",
              "      <th>3</th>\n",
              "      <td>118</td>\n",
              "    </tr>\n",
              "    <tr>\n",
              "      <th>4</th>\n",
              "      <td>132</td>\n",
              "    </tr>\n",
              "    <tr>\n",
              "      <th>...</th>\n",
              "      <td>...</td>\n",
              "    </tr>\n",
              "    <tr>\n",
              "      <th>1555</th>\n",
              "      <td>104</td>\n",
              "    </tr>\n",
              "    <tr>\n",
              "      <th>1556</th>\n",
              "      <td>114</td>\n",
              "    </tr>\n",
              "    <tr>\n",
              "      <th>1557</th>\n",
              "      <td>131</td>\n",
              "    </tr>\n",
              "    <tr>\n",
              "      <th>1558</th>\n",
              "      <td>106</td>\n",
              "    </tr>\n",
              "    <tr>\n",
              "      <th>1559</th>\n",
              "      <td>129</td>\n",
              "    </tr>\n",
              "  </tbody>\n",
              "</table>\n",
              "<p>1560 rows × 1 columns</p>\n",
              "</div>"
            ],
            "text/plain": [
              "      Price\n",
              "0       119\n",
              "1       123\n",
              "2       108\n",
              "3       118\n",
              "4       132\n",
              "...     ...\n",
              "1555    104\n",
              "1556    114\n",
              "1557    131\n",
              "1558    106\n",
              "1559    129\n",
              "\n",
              "[1560 rows x 1 columns]"
            ]
          },
          "metadata": {
            "tags": []
          },
          "execution_count": 1542
        }
      ]
    },
    {
      "cell_type": "code",
      "metadata": {
        "id": "bANUFx4UymK2"
      },
      "source": [
        "np.set_printoptions(precision=2)\n",
        "df = pd.DataFrame({'Price':predictions})"
      ],
      "execution_count": 1543,
      "outputs": []
    },
    {
      "cell_type": "code",
      "metadata": {
        "id": "tl3mG-ym0ZYZ"
      },
      "source": [
        "df.to_csv('Predictions.csv', index=False)"
      ],
      "execution_count": 1544,
      "outputs": []
    },
    {
      "cell_type": "code",
      "metadata": {
        "colab": {
          "base_uri": "https://localhost:8080/",
          "height": 419
        },
        "id": "HVhmPloF00wt",
        "outputId": "31957594-ff74-4798-ddd4-2e9c69ba7f2c"
      },
      "source": [
        "p = pd.read_csv('Predictions.csv')\n",
        "p"
      ],
      "execution_count": 1545,
      "outputs": [
        {
          "output_type": "execute_result",
          "data": {
            "text/html": [
              "<div>\n",
              "<style scoped>\n",
              "    .dataframe tbody tr th:only-of-type {\n",
              "        vertical-align: middle;\n",
              "    }\n",
              "\n",
              "    .dataframe tbody tr th {\n",
              "        vertical-align: top;\n",
              "    }\n",
              "\n",
              "    .dataframe thead th {\n",
              "        text-align: right;\n",
              "    }\n",
              "</style>\n",
              "<table border=\"1\" class=\"dataframe\">\n",
              "  <thead>\n",
              "    <tr style=\"text-align: right;\">\n",
              "      <th></th>\n",
              "      <th>Price</th>\n",
              "    </tr>\n",
              "  </thead>\n",
              "  <tbody>\n",
              "    <tr>\n",
              "      <th>0</th>\n",
              "      <td>442.890</td>\n",
              "    </tr>\n",
              "    <tr>\n",
              "      <th>1</th>\n",
              "      <td>872.800</td>\n",
              "    </tr>\n",
              "    <tr>\n",
              "      <th>2</th>\n",
              "      <td>357.448</td>\n",
              "    </tr>\n",
              "    <tr>\n",
              "      <th>3</th>\n",
              "      <td>1154.220</td>\n",
              "    </tr>\n",
              "    <tr>\n",
              "      <th>4</th>\n",
              "      <td>395.288</td>\n",
              "    </tr>\n",
              "    <tr>\n",
              "      <th>...</th>\n",
              "      <td>...</td>\n",
              "    </tr>\n",
              "    <tr>\n",
              "      <th>1555</th>\n",
              "      <td>841.800</td>\n",
              "    </tr>\n",
              "    <tr>\n",
              "      <th>1556</th>\n",
              "      <td>290.786</td>\n",
              "    </tr>\n",
              "    <tr>\n",
              "      <th>1557</th>\n",
              "      <td>307.398</td>\n",
              "    </tr>\n",
              "    <tr>\n",
              "      <th>1558</th>\n",
              "      <td>573.600</td>\n",
              "    </tr>\n",
              "    <tr>\n",
              "      <th>1559</th>\n",
              "      <td>458.400</td>\n",
              "    </tr>\n",
              "  </tbody>\n",
              "</table>\n",
              "<p>1560 rows × 1 columns</p>\n",
              "</div>"
            ],
            "text/plain": [
              "         Price\n",
              "0      442.890\n",
              "1      872.800\n",
              "2      357.448\n",
              "3     1154.220\n",
              "4      395.288\n",
              "...        ...\n",
              "1555   841.800\n",
              "1556   290.786\n",
              "1557   307.398\n",
              "1558   573.600\n",
              "1559   458.400\n",
              "\n",
              "[1560 rows x 1 columns]"
            ]
          },
          "metadata": {
            "tags": []
          },
          "execution_count": 1545
        }
      ]
    },
    {
      "cell_type": "code",
      "metadata": {
        "id": "d90hWo0y2PQH"
      },
      "source": [
        ""
      ],
      "execution_count": 1545,
      "outputs": []
    }
  ]
}